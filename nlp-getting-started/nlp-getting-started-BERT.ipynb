{
 "cells": [
  {
   "cell_type": "code",
   "execution_count": 24,
   "metadata": {},
   "outputs": [
    {
     "name": "stderr",
     "output_type": "stream",
     "text": [
      "[nltk_data] Downloading package stopwords to\n",
      "[nltk_data]     C:\\Users\\I514609\\AppData\\Roaming\\nltk_data...\n",
      "[nltk_data]   Package stopwords is already up-to-date!\n"
     ]
    }
   ],
   "source": [
    "import numpy as np # linear algebra\n",
    "import pandas as pd # data processing, CSV file I/O (e.g. pd.read_csv)\n",
    "from sentence_transformers import SentenceTransformer\n",
    "from sklearn.metrics import accuracy_score\n",
    "from sklearn.model_selection import StratifiedKFold\n",
    "from sklearn.linear_model import LogisticRegression\n",
    "from sklearn import ensemble\n",
    "from nltk.stem import SnowballStemmer\n",
    "import nltk \n",
    "nltk.download('stopwords')\n",
    "from nltk.corpus import stopwords\n",
    "from keras.preprocessing.text import Tokenizer\n",
    "import re\n",
    "from sklearn.feature_extraction.text import CountVectorizer"
   ]
  },
  {
   "cell_type": "code",
   "execution_count": 9,
   "metadata": {},
   "outputs": [],
   "source": [
    "sbert_model = SentenceTransformer('paraphrase-mpnet-base-v2')\n",
    "text_cleaning_regex = \"@S+|https?:S+|http?:S|[^A-Za-z0-9]+\"\n",
    "stemmer = SnowballStemmer('english')\n",
    "\n",
    "stop_words = stopwords.words('english')\n",
    "\n",
    "tokenizer = Tokenizer()\n",
    "train_df = pd.read_csv(\"train.csv\")\n",
    "test_df = pd.read_csv(\"test.csv\")"
   ]
  },
  {
   "cell_type": "code",
   "execution_count": 3,
   "metadata": {},
   "outputs": [
    {
     "name": "stdout",
     "output_type": "stream",
     "text": [
      "0    4342\n",
      "1    3271\n",
      "Name: target, dtype: int64\n"
     ]
    },
    {
     "data": {
      "text/plain": [
       "<AxesSubplot:>"
      ]
     },
     "execution_count": 3,
     "metadata": {},
     "output_type": "execute_result"
    },
    {
     "data": {
      "image/png": "[encoded data removed]",
      "text/plain": [
       "<Figure size 432x288 with 1 Axes>"
      ]
     },
     "metadata": {
      "needs_background": "light"
     },
     "output_type": "display_data"
    }
   ],
   "source": [
    "# Check unbalanced target data\n",
    "print(train_df['target'].value_counts())\n",
    "train_df['target'].value_counts().plot(kind='bar')"
   ]
  },
  {
   "cell_type": "code",
   "execution_count": 4,
   "metadata": {},
   "outputs": [
    {
     "name": "stdout",
     "output_type": "stream",
     "text": [
      "<class 'pandas.core.frame.DataFrame'>\n",
      "Int64Index: 7503 entries, 0 to 7612\n",
      "Data columns (total 5 columns):\n",
      " #   Column    Non-Null Count  Dtype \n",
      "---  ------    --------------  ----- \n",
      " 0   id        7503 non-null   int64 \n",
      " 1   keyword   7447 non-null   object\n",
      " 2   location  5021 non-null   object\n",
      " 3   text      7503 non-null   object\n",
      " 4   target    7503 non-null   int64 \n",
      "dtypes: int64(2), object(3)\n",
      "memory usage: 351.7+ KB\n"
     ]
    }
   ],
   "source": [
    "# Delete duplicate rows based on specific columns \n",
    "train_df = train_df.drop_duplicates(subset=[\"text\"], keep='first')\n",
    "train_df.info()"
   ]
  },
  {
   "cell_type": "code",
   "execution_count": 10,
   "metadata": {},
   "outputs": [],
   "source": [
    "# Clean text\n",
    "def clean_tweets(text, stem=False):\n",
    "  # Text passed to the regex equatio\n",
    "  text = re.sub(text_cleaning_regex, ' ', str(text).lower()).strip()\n",
    "  # Empty list created to store final tokens\n",
    "  tokens = []\n",
    "  for token in text.split():\n",
    "    # check if the token is a stop word or not\n",
    "    if token not in stop_words:\n",
    "      if stem:\n",
    "        # Paased to the snowball stemmer\n",
    "        tokens.append(stemmer.stem(token))\n",
    "      else:\n",
    "        # A\n",
    "        tokens.append(token)\n",
    "  return \" \".join(tokens)"
   ]
  },
  {
   "cell_type": "code",
   "execution_count": 11,
   "metadata": {},
   "outputs": [],
   "source": [
    "train_df[\"clean_text\"]=train_df[\"text\"].apply(clean_tweets)\n",
    "test_df[\"clean_text\"]=test_df[\"text\"].apply(clean_tweets)"
   ]
  },
  {
   "cell_type": "code",
   "execution_count": 13,
   "metadata": {},
   "outputs": [],
   "source": [
    "Training_Sentence_embeddings = sbert_model.encode(train_df.clean_text)\n",
    "Test_Sentence_embeddings = sbert_model.encode(test_df.clean_text)"
   ]
  },
  {
   "cell_type": "code",
   "execution_count": 19,
   "metadata": {},
   "outputs": [],
   "source": [
    "# Logistic Regression K-Fold Cross Validation\n",
    "skf = StratifiedKFold(n_splits=4, random_state=48, shuffle=True)\n",
    "accuracy=[]\n",
    "y=train_df['target']\n",
    "for trn_idx, test_idx in skf.split(Training_Sentence_embeddings, y):\n",
    "    X_tr,X_val=Training_Sentence_embeddings[trn_idx],Training_Sentence_embeddings[test_idx]\n",
    "    y_tr,y_val=y.iloc[trn_idx],y.iloc[test_idx]\n",
    "    model= LogisticRegression(max_iter=1000,C=3)\n",
    "    model.fit(X_tr,y_tr)\n",
    "    s = model.predict(X_val)\n",
    "    accuracy.append(accuracy_score(y_val, s))"
   ]
  },
  {
   "cell_type": "code",
   "execution_count": 20,
   "metadata": {},
   "outputs": [
    {
     "name": "stdout",
     "output_type": "stream",
     "text": [
      "[0.8098739495798319, 0.8045191802417236, 0.8003152916447714, 0.8087230688386757]\n",
      "Cross Validated Training Set Accuracy:  80.58578725762506\n"
     ]
    }
   ],
   "source": [
    "mean_acc = np.mean(accuracy)*100\n",
    "print(accuracy)\n",
    "print(\"Cross Validated Training Set Accuracy: \", mean_acc)"
   ]
  },
  {
   "cell_type": "code",
   "execution_count": 22,
   "metadata": {},
   "outputs": [],
   "source": [
    "# Logistic Regression K-Fold Cross Validation\n",
    "skf = StratifiedKFold(n_splits=4, random_state=48, shuffle=True)\n",
    "accuracy=[]\n",
    "y=train_df['target']\n",
    "for trn_idx, test_idx in skf.split(Training_Sentence_embeddings, y):\n",
    "    X_tr,X_val=Training_Sentence_embeddings[trn_idx],Training_Sentence_embeddings[test_idx]\n",
    "    y_tr,y_val=y.iloc[trn_idx],y.iloc[test_idx]\n",
    "    model= ensemble.GradientBoostingClassifier(learning_rate=0.1,                                            \n",
    "                                            n_estimators=2000,\n",
    "                                            max_depth=9,\n",
    "                                            min_samples_split=6,\n",
    "                                            min_samples_leaf=2,\n",
    "                                            max_features=8,\n",
    "                                            subsample=0.9)\n",
    "    model.fit(X_tr,y_tr)\n",
    "    s = model.predict(X_val)\n",
    "    accuracy.append(accuracy_score(y_val, s))"
   ]
  },
  {
   "cell_type": "code",
   "execution_count": 23,
   "metadata": {},
   "outputs": [
    {
     "name": "stdout",
     "output_type": "stream",
     "text": [
      "[0.8261554621848739, 0.8239621650026274, 0.8176563321071991, 0.8313189700472937]\n",
      "Cross Validated Training Set Accuracy:  82.47732323354985\n"
     ]
    }
   ],
   "source": [
    "mean_acc = np.mean(accuracy)*100\n",
    "print(accuracy)\n",
    "print(\"Cross Validated Training Set Accuracy: \", mean_acc)"
   ]
  },
  {
   "cell_type": "code",
   "execution_count": 26,
   "metadata": {},
   "outputs": [],
   "source": [
    "# BERT Classifier Prediction\n",
    "result = model.predict(Test_Sentence_embeddings)\n",
    "test_df['target'] = result\n",
    "test_df[[\"id\", \"target\"]].head()\n",
    "test_df[[\"id\", \"target\"]].to_csv('submission_bert.csv', index=False)"
   ]
  }
 ],
 "metadata": {
  "interpreter": {
   "hash": "ad2bdc8ecc057115af97d19610ffacc2b4e99fae6737bb82f5d7fb13d2f2c186"
  },
  "kernelspec": {
   "display_name": "Python 3.9.7 ('base')",
   "language": "python",
   "name": "python3"
  },
  "language_info": {
   "codemirror_mode": {
    "name": "ipython",
    "version": 3
   },
   "file_extension": ".py",
   "mimetype": "text/x-python",
   "name": "python",
   "nbconvert_exporter": "python",
   "pygments_lexer": "ipython3",
   "version": "3.9.7"
  },
  "orig_nbformat": 4
 },
 "nbformat": 4,
 "nbformat_minor": 2
}
