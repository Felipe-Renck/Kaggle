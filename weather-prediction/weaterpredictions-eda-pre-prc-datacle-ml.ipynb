{
 "cells": [
  {
   "cell_type": "markdown",
   "id": "c88b440f",
   "metadata": {
    "papermill": {
     "duration": 0.030916,
     "end_time": "2022-02-12T16:30:07.650282",
     "exception": false,
     "start_time": "2022-02-12T16:30:07.619366",
     "status": "completed"
    },
    "tags": []
   },
   "source": [
    "# **Information about of the data**"
   ]
  },
  {
   "cell_type": "markdown",
   "id": "086ed1c8",
   "metadata": {
    "papermill": {
     "duration": 0.029514,
     "end_time": "2022-02-12T16:30:07.708014",
     "exception": false,
     "start_time": "2022-02-12T16:30:07.678500",
     "status": "completed"
    },
    "tags": []
   },
   "source": [
    "* **Location:** The common name of the location of the weather station. (String)\n",
    "* **MinTemp:** The minimum temperature in degrees celsius.(Float)\n",
    "* **MaxTemp:** The maximum temperature in degrees celsius.(Float)\n",
    "* **Rainfall:** The amount of rainfall recorded for the day in mm.(Float)\n",
    "* **Evaporation:** Evaporation is a type of vaporization that occurs on the surface of a liquid as it changes into the gas phase.(Float)\n",
    "* **Sunshine:** The number of hours of bright sunshine in the day..(Float)\n",
    "* **WindGustDir:** The direction of the strongest wind gust in the 24 hours to midnight.(String)\n",
    "* **WindGustSpeed:** The speed (km/h) of the strongest wind gust in the 24 hours to midnight.(Float)\n",
    "* **WindDir9am:** Wind direction at 9am.(String)\n",
    "* **WindDir3pm:** Wind direction at 3pm.(String)\n",
    "* **WindSpeed9am:** Wind speed (km/hr) averaged over 10 minutes prior to 9am.(Float)\n",
    "* **WindSpeed3pm:** Wind speed (km/hr) averaged over 10 minutes prior to 3pm.(Float)\n",
    "* **Humidity9am:** Relative humidity (percent) at 9am.(Float)\n",
    "* **Humidity3pm:** Relative humidity (percent) at 3pm.(Float)\n",
    "* **Pressure9am:** Atmospheric pressure (hpa) reduced to mean sea level at 9am.(Float)\n",
    "* **Pressure3pm:** Atmospheric pressure (hpa) reduced to mean sea level at 3pm.(Float)\n",
    "* **Cloud9am:** Fraction of sky obscured by cloud at 9am. This is measured in \"oktas\", which are a unit of eigths. It records how many eigths of the sky are obscured by cloud. A 0 measure indicates completely clear sky whilst an 8 indicates that it is completely overcast..(Float)\n",
    "* **Cloud3pm:** Fraction of sky obscured by cloud (in \"oktas\": eighths) at 3pm. See Cload9am for a description of the values.(Float)\n",
    "* **Temp9am:** Temperature (degrees C) at 9am.(Float)\n",
    "* **Temp3pm:** Temperature (degrees C) at 3pm.(Float)\n",
    "* **RainToday:** Integer: 1 if precipitation (mm) in the 24 hours to 9am exceeds 1mm, otherwise 0.(Boolean)\n",
    "* **RainTomorrow:** The target variable. Did it rain tomorrow.(Boolean)"
   ]
  },
  {
   "cell_type": "markdown",
   "id": "5b75d192",
   "metadata": {
    "papermill": {
     "duration": 0.028193,
     "end_time": "2022-02-12T16:30:07.766054",
     "exception": false,
     "start_time": "2022-02-12T16:30:07.737861",
     "status": "completed"
    },
    "tags": []
   },
   "source": [
    "# **Import Libraries**"
   ]
  },
  {
   "cell_type": "code",
   "execution_count": 1,
   "id": "fb7ad2f4",
   "metadata": {
    "_cell_guid": "b1076dfc-b9ad-4769-8c92-a6c4dae69d19",
    "_uuid": "8f2839f25d086af736a60e9eeb907d3b93b6e0e5",
    "execution": {
     "iopub.execute_input": "2022-02-12T16:30:07.827275Z",
     "iopub.status.busy": "2022-02-12T16:30:07.826055Z",
     "iopub.status.idle": "2022-02-12T16:30:09.171103Z",
     "shell.execute_reply": "2022-02-12T16:30:09.170309Z",
     "shell.execute_reply.started": "2022-02-12T16:29:46.489744Z"
    },
    "papermill": {
     "duration": 1.377715,
     "end_time": "2022-02-12T16:30:09.171300",
     "exception": false,
     "start_time": "2022-02-12T16:30:07.793585",
     "status": "completed"
    },
    "tags": []
   },
   "outputs": [],
   "source": [
    "import numpy as np # linear algebra\n",
    "import pandas as pd # data processing, CSV file I/O (e.g. pd.read_csv)\n",
    "import random # For random choice\n",
    "\n",
    "import matplotlib.pyplot as plt # Data visualization\n",
    "import seaborn as sns # Data visualization\n",
    "\n",
    "from sklearn.preprocessing import MinMaxScaler # Transform features by scaling each feature to a given range.\n",
    "from sklearn.model_selection import GridSearchCV # Exhaustive search over specified parameter values for an estimator.\n",
    "\n",
    "from sklearn.tree import DecisionTreeClassifier # ML algorithm\n",
    "\n",
    "import warnings # For turn off warnings\n",
    "warnings.filterwarnings(\"ignore\")"
   ]
  },
  {
   "cell_type": "markdown",
   "id": "6433a3e5",
   "metadata": {
    "papermill": {
     "duration": 0.027371,
     "end_time": "2022-02-12T16:30:09.227311",
     "exception": false,
     "start_time": "2022-02-12T16:30:09.199940",
     "status": "completed"
    },
    "tags": []
   },
   "source": [
    "# **Data exploration**"
   ]
  },
  {
   "cell_type": "code",
   "execution_count": 2,
   "id": "cecd9f36",
   "metadata": {
    "execution": {
     "iopub.execute_input": "2022-02-12T16:30:09.284252Z",
     "iopub.status.busy": "2022-02-12T16:30:09.283637Z",
     "iopub.status.idle": "2022-02-12T16:30:09.731101Z",
     "shell.execute_reply": "2022-02-12T16:30:09.731754Z",
     "shell.execute_reply.started": "2022-02-12T16:29:46.497601Z"
    },
    "papermill": {
     "duration": 0.477824,
     "end_time": "2022-02-12T16:30:09.731956",
     "exception": false,
     "start_time": "2022-02-12T16:30:09.254132",
     "status": "completed"
    },
    "tags": []
   },
   "outputs": [],
   "source": [
    "train = pd.read_csv(\"train_weather.csv\") # We transfer the training data to the notebook\n",
    "test = pd.read_csv(\"test_weather.csv\") # we transfer the test data to the notebook"
   ]
  },
  {
   "cell_type": "code",
   "execution_count": 3,
   "id": "8ca16028",
   "metadata": {
    "execution": {
     "iopub.execute_input": "2022-02-12T16:30:09.792778Z",
     "iopub.status.busy": "2022-02-12T16:30:09.792207Z",
     "iopub.status.idle": "2022-02-12T16:30:09.795682Z",
     "shell.execute_reply": "2022-02-12T16:30:09.796127Z",
     "shell.execute_reply.started": "2022-02-12T16:29:46.761554Z"
    },
    "papermill": {
     "duration": 0.037106,
     "end_time": "2022-02-12T16:30:09.796301",
     "exception": false,
     "start_time": "2022-02-12T16:30:09.759195",
     "status": "completed"
    },
    "tags": []
   },
   "outputs": [
    {
     "data": {
      "text/plain": [
       "(121873, 22)"
      ]
     },
     "execution_count": 3,
     "metadata": {},
     "output_type": "execute_result"
    }
   ],
   "source": [
    "train.shape # Looking shape of train data"
   ]
  },
  {
   "cell_type": "code",
   "execution_count": 4,
   "id": "58a093e8",
   "metadata": {
    "execution": {
     "iopub.execute_input": "2022-02-12T16:30:09.853772Z",
     "iopub.status.busy": "2022-02-12T16:30:09.853226Z",
     "iopub.status.idle": "2022-02-12T16:30:09.889325Z",
     "shell.execute_reply": "2022-02-12T16:30:09.888831Z",
     "shell.execute_reply.started": "2022-02-12T16:29:46.769181Z"
    },
    "papermill": {
     "duration": 0.065505,
     "end_time": "2022-02-12T16:30:09.889462",
     "exception": false,
     "start_time": "2022-02-12T16:30:09.823957",
     "status": "completed"
    },
    "tags": []
   },
   "outputs": [
    {
     "data": {
      "text/html": [
       "<div>\n",
       "<style scoped>\n",
       "    .dataframe tbody tr th:only-of-type {\n",
       "        vertical-align: middle;\n",
       "    }\n",
       "\n",
       "    .dataframe tbody tr th {\n",
       "        vertical-align: top;\n",
       "    }\n",
       "\n",
       "    .dataframe thead th {\n",
       "        text-align: right;\n",
       "    }\n",
       "</style>\n",
       "<table border=\"1\" class=\"dataframe\">\n",
       "  <thead>\n",
       "    <tr style=\"text-align: right;\">\n",
       "      <th></th>\n",
       "      <th>Location</th>\n",
       "      <th>MinTemp</th>\n",
       "      <th>MaxTemp</th>\n",
       "      <th>Rainfall</th>\n",
       "      <th>Evaporation</th>\n",
       "      <th>Sunshine</th>\n",
       "      <th>WindGustDir</th>\n",
       "      <th>WindGustSpeed</th>\n",
       "      <th>WindDir9am</th>\n",
       "      <th>WindDir3pm</th>\n",
       "      <th>...</th>\n",
       "      <th>Humidity9am</th>\n",
       "      <th>Humidity3pm</th>\n",
       "      <th>Pressure9am</th>\n",
       "      <th>Pressure3pm</th>\n",
       "      <th>Cloud9am</th>\n",
       "      <th>Cloud3pm</th>\n",
       "      <th>Temp9am</th>\n",
       "      <th>Temp3pm</th>\n",
       "      <th>RainToday</th>\n",
       "      <th>RainTomorrow</th>\n",
       "    </tr>\n",
       "  </thead>\n",
       "  <tbody>\n",
       "    <tr>\n",
       "      <th>0</th>\n",
       "      <td>Brisbane</td>\n",
       "      <td>13.7</td>\n",
       "      <td>23.6</td>\n",
       "      <td>0.0</td>\n",
       "      <td>5.0</td>\n",
       "      <td>9.6</td>\n",
       "      <td>SSE</td>\n",
       "      <td>24.0</td>\n",
       "      <td>SSW</td>\n",
       "      <td>ESE</td>\n",
       "      <td>...</td>\n",
       "      <td>65.0</td>\n",
       "      <td>53.0</td>\n",
       "      <td>1028.4</td>\n",
       "      <td>1026.7</td>\n",
       "      <td>1.0</td>\n",
       "      <td>1.0</td>\n",
       "      <td>18.3</td>\n",
       "      <td>22.3</td>\n",
       "      <td>0</td>\n",
       "      <td>0</td>\n",
       "    </tr>\n",
       "    <tr>\n",
       "      <th>1</th>\n",
       "      <td>Sydney</td>\n",
       "      <td>15.4</td>\n",
       "      <td>21.2</td>\n",
       "      <td>61.2</td>\n",
       "      <td>5.8</td>\n",
       "      <td>2.7</td>\n",
       "      <td>S</td>\n",
       "      <td>43.0</td>\n",
       "      <td>WSW</td>\n",
       "      <td>SSW</td>\n",
       "      <td>...</td>\n",
       "      <td>91.0</td>\n",
       "      <td>65.0</td>\n",
       "      <td>1018.8</td>\n",
       "      <td>1016.5</td>\n",
       "      <td>8.0</td>\n",
       "      <td>7.0</td>\n",
       "      <td>15.6</td>\n",
       "      <td>20.7</td>\n",
       "      <td>1</td>\n",
       "      <td>1</td>\n",
       "    </tr>\n",
       "    <tr>\n",
       "      <th>2</th>\n",
       "      <td>Richmond</td>\n",
       "      <td>16.8</td>\n",
       "      <td>30.9</td>\n",
       "      <td>1.0</td>\n",
       "      <td>NaN</td>\n",
       "      <td>NaN</td>\n",
       "      <td>NE</td>\n",
       "      <td>35.0</td>\n",
       "      <td>NNW</td>\n",
       "      <td>NE</td>\n",
       "      <td>...</td>\n",
       "      <td>80.0</td>\n",
       "      <td>38.0</td>\n",
       "      <td>1020.4</td>\n",
       "      <td>1013.2</td>\n",
       "      <td>1.0</td>\n",
       "      <td>NaN</td>\n",
       "      <td>19.6</td>\n",
       "      <td>30.0</td>\n",
       "      <td>0</td>\n",
       "      <td>0</td>\n",
       "    </tr>\n",
       "    <tr>\n",
       "      <th>3</th>\n",
       "      <td>NorfolkIsland</td>\n",
       "      <td>13.9</td>\n",
       "      <td>17.1</td>\n",
       "      <td>0.2</td>\n",
       "      <td>3.8</td>\n",
       "      <td>8.9</td>\n",
       "      <td>SE</td>\n",
       "      <td>37.0</td>\n",
       "      <td>SE</td>\n",
       "      <td>SSE</td>\n",
       "      <td>...</td>\n",
       "      <td>56.0</td>\n",
       "      <td>63.0</td>\n",
       "      <td>1027.7</td>\n",
       "      <td>1026.1</td>\n",
       "      <td>3.0</td>\n",
       "      <td>1.0</td>\n",
       "      <td>15.3</td>\n",
       "      <td>15.8</td>\n",
       "      <td>0</td>\n",
       "      <td>0</td>\n",
       "    </tr>\n",
       "    <tr>\n",
       "      <th>4</th>\n",
       "      <td>Mildura</td>\n",
       "      <td>16.0</td>\n",
       "      <td>36.1</td>\n",
       "      <td>0.0</td>\n",
       "      <td>6.8</td>\n",
       "      <td>12.9</td>\n",
       "      <td>ENE</td>\n",
       "      <td>33.0</td>\n",
       "      <td>ENE</td>\n",
       "      <td>E</td>\n",
       "      <td>...</td>\n",
       "      <td>58.0</td>\n",
       "      <td>32.0</td>\n",
       "      <td>1018.5</td>\n",
       "      <td>1016.0</td>\n",
       "      <td>0.0</td>\n",
       "      <td>3.0</td>\n",
       "      <td>26.0</td>\n",
       "      <td>34.9</td>\n",
       "      <td>0</td>\n",
       "      <td>0</td>\n",
       "    </tr>\n",
       "  </tbody>\n",
       "</table>\n",
       "<p>5 rows × 22 columns</p>\n",
       "</div>"
      ],
      "text/plain": [
       "        Location  MinTemp  MaxTemp  Rainfall  Evaporation  Sunshine  \\\n",
       "0       Brisbane     13.7     23.6       0.0          5.0       9.6   \n",
       "1         Sydney     15.4     21.2      61.2          5.8       2.7   \n",
       "2       Richmond     16.8     30.9       1.0          NaN       NaN   \n",
       "3  NorfolkIsland     13.9     17.1       0.2          3.8       8.9   \n",
       "4        Mildura     16.0     36.1       0.0          6.8      12.9   \n",
       "\n",
       "  WindGustDir  WindGustSpeed WindDir9am WindDir3pm  ...  Humidity9am  \\\n",
       "0         SSE           24.0        SSW        ESE  ...         65.0   \n",
       "1           S           43.0        WSW        SSW  ...         91.0   \n",
       "2          NE           35.0        NNW         NE  ...         80.0   \n",
       "3          SE           37.0         SE        SSE  ...         56.0   \n",
       "4         ENE           33.0        ENE          E  ...         58.0   \n",
       "\n",
       "   Humidity3pm  Pressure9am  Pressure3pm  Cloud9am  Cloud3pm  Temp9am  \\\n",
       "0         53.0       1028.4       1026.7       1.0       1.0     18.3   \n",
       "1         65.0       1018.8       1016.5       8.0       7.0     15.6   \n",
       "2         38.0       1020.4       1013.2       1.0       NaN     19.6   \n",
       "3         63.0       1027.7       1026.1       3.0       1.0     15.3   \n",
       "4         32.0       1018.5       1016.0       0.0       3.0     26.0   \n",
       "\n",
       "   Temp3pm  RainToday  RainTomorrow  \n",
       "0     22.3          0             0  \n",
       "1     20.7          1             1  \n",
       "2     30.0          0             0  \n",
       "3     15.8          0             0  \n",
       "4     34.9          0             0  \n",
       "\n",
       "[5 rows x 22 columns]"
      ]
     },
     "execution_count": 4,
     "metadata": {},
     "output_type": "execute_result"
    }
   ],
   "source": [
    "train.head() # Looking first 5 row of train data"
   ]
  },
  {
   "cell_type": "code",
   "execution_count": 5,
   "id": "465ac9eb",
   "metadata": {
    "execution": {
     "iopub.execute_input": "2022-02-12T16:30:09.958700Z",
     "iopub.status.busy": "2022-02-12T16:30:09.958094Z",
     "iopub.status.idle": "2022-02-12T16:30:09.975356Z",
     "shell.execute_reply": "2022-02-12T16:30:09.974829Z",
     "shell.execute_reply.started": "2022-02-12T16:29:46.803505Z"
    },
    "papermill": {
     "duration": 0.058781,
     "end_time": "2022-02-12T16:30:09.975493",
     "exception": false,
     "start_time": "2022-02-12T16:30:09.916712",
     "status": "completed"
    },
    "tags": []
   },
   "outputs": [
    {
     "data": {
      "text/plain": [
       "(49,\n",
       " array(['Brisbane', 'Sydney', 'Richmond', 'NorfolkIsland', 'Mildura',\n",
       "        'Adelaide', 'GoldCoast', 'Woomera', 'Witchcliffe', 'Uluru',\n",
       "        'Cairns', 'Bendigo', 'Newcastle', 'Moree', 'Canberra',\n",
       "        'Williamtown', 'PerthAirport', 'Katherine', 'Albury', 'Nhil',\n",
       "        'Perth', 'Melbourne', 'Townsville', 'WaggaWagga', 'MountGinini',\n",
       "        'Ballarat', 'Watsonia', 'Penrith', 'NorahHead', 'Portland',\n",
       "        'SalmonGums', 'BadgerysCreek', 'MelbourneAirport', 'Walpole',\n",
       "        'Hobart', 'CoffsHarbour', 'SydneyAirport', 'Albany', 'Tuggeranong',\n",
       "        'Nuriootpa', 'AliceSprings', 'Wollongong', 'PearceRAAF', 'Cobar',\n",
       "        'Dartmoor', 'Darwin', 'MountGambier', 'Sale', 'Launceston'],\n",
       "       dtype=object))"
      ]
     },
     "execution_count": 5,
     "metadata": {},
     "output_type": "execute_result"
    }
   ],
   "source": [
    "#We look at the total number of unique data in the location and their names.\n",
    "len(train.Location.unique()), train.Location.unique()"
   ]
  },
  {
   "cell_type": "code",
   "execution_count": 6,
   "id": "9f21d4c4",
   "metadata": {
    "execution": {
     "iopub.execute_input": "2022-02-12T16:30:10.036134Z",
     "iopub.status.busy": "2022-02-12T16:30:10.035492Z",
     "iopub.status.idle": "2022-02-12T16:30:10.098838Z",
     "shell.execute_reply": "2022-02-12T16:30:10.098326Z",
     "shell.execute_reply.started": "2022-02-12T16:29:46.828345Z"
    },
    "papermill": {
     "duration": 0.095305,
     "end_time": "2022-02-12T16:30:10.098977",
     "exception": false,
     "start_time": "2022-02-12T16:30:10.003672",
     "status": "completed"
    },
    "tags": []
   },
   "outputs": [
    {
     "data": {
      "text/plain": [
       "MaxTemp           1031\n",
       "MinTemp           1221\n",
       "WindSpeed9am      1519\n",
       "Temp9am           1533\n",
       "Humidity9am       2231\n",
       "WindSpeed3pm      2345\n",
       "Temp3pm           2656\n",
       "Rainfall          2728\n",
       "WindDir3pm        3354\n",
       "Humidity3pm       3382\n",
       "WindGustSpeed     8661\n",
       "WindGustDir       8716\n",
       "WindDir9am        8914\n",
       "Pressure3pm      12602\n",
       "Pressure9am      12635\n",
       "Cloud9am         46059\n",
       "Cloud3pm         48476\n",
       "Evaporation      50544\n",
       "Sunshine         56175\n",
       "dtype: int64"
      ]
     },
     "execution_count": 6,
     "metadata": {},
     "output_type": "execute_result"
    }
   ],
   "source": [
    "# We show the total Nan values of the columns.\n",
    "train[ train.columns[ train.isnull().sum() != 0 ] ].isnull().sum().sort_values()"
   ]
  },
  {
   "cell_type": "code",
   "execution_count": 7,
   "id": "0665ae0e",
   "metadata": {
    "execution": {
     "iopub.execute_input": "2022-02-12T16:30:10.159624Z",
     "iopub.status.busy": "2022-02-12T16:30:10.159062Z",
     "iopub.status.idle": "2022-02-12T16:30:10.197911Z",
     "shell.execute_reply": "2022-02-12T16:30:10.198331Z",
     "shell.execute_reply.started": "2022-02-12T16:29:46.888405Z"
    },
    "papermill": {
     "duration": 0.071723,
     "end_time": "2022-02-12T16:30:10.198506",
     "exception": false,
     "start_time": "2022-02-12T16:30:10.126783",
     "status": "completed"
    },
    "tags": []
   },
   "outputs": [
    {
     "name": "stdout",
     "output_type": "stream",
     "text": [
      "<class 'pandas.core.frame.DataFrame'>\n",
      "RangeIndex: 121873 entries, 0 to 121872\n",
      "Data columns (total 22 columns):\n",
      " #   Column         Non-Null Count   Dtype  \n",
      "---  ------         --------------   -----  \n",
      " 0   Location       121873 non-null  object \n",
      " 1   MinTemp        120652 non-null  float64\n",
      " 2   MaxTemp        120842 non-null  float64\n",
      " 3   Rainfall       119145 non-null  float64\n",
      " 4   Evaporation    71329 non-null   float64\n",
      " 5   Sunshine       65698 non-null   float64\n",
      " 6   WindGustDir    113157 non-null  object \n",
      " 7   WindGustSpeed  113212 non-null  float64\n",
      " 8   WindDir9am     112959 non-null  object \n",
      " 9   WindDir3pm     118519 non-null  object \n",
      " 10  WindSpeed9am   120354 non-null  float64\n",
      " 11  WindSpeed3pm   119528 non-null  float64\n",
      " 12  Humidity9am    119642 non-null  float64\n",
      " 13  Humidity3pm    118491 non-null  float64\n",
      " 14  Pressure9am    109238 non-null  float64\n",
      " 15  Pressure3pm    109271 non-null  float64\n",
      " 16  Cloud9am       75814 non-null   float64\n",
      " 17  Cloud3pm       73397 non-null   float64\n",
      " 18  Temp9am        120340 non-null  float64\n",
      " 19  Temp3pm        119217 non-null  float64\n",
      " 20  RainToday      121873 non-null  int64  \n",
      " 21  RainTomorrow   121873 non-null  int64  \n",
      "dtypes: float64(16), int64(2), object(4)\n",
      "memory usage: 20.5+ MB\n"
     ]
    }
   ],
   "source": [
    "#Getting information from of train data.\n",
    "train.info()"
   ]
  },
  {
   "cell_type": "code",
   "execution_count": 8,
   "id": "e3ec9b4a",
   "metadata": {
    "execution": {
     "iopub.execute_input": "2022-02-12T16:30:10.261734Z",
     "iopub.status.busy": "2022-02-12T16:30:10.261154Z",
     "iopub.status.idle": "2022-02-12T16:30:10.265070Z",
     "shell.execute_reply": "2022-02-12T16:30:10.264572Z",
     "shell.execute_reply.started": "2022-02-12T16:29:46.925488Z"
    },
    "papermill": {
     "duration": 0.038196,
     "end_time": "2022-02-12T16:30:10.265210",
     "exception": false,
     "start_time": "2022-02-12T16:30:10.227014",
     "status": "completed"
    },
    "tags": []
   },
   "outputs": [
    {
     "name": "stdout",
     "output_type": "stream",
     "text": [
      "Numerical column names\n",
      " Index(['MinTemp', 'MaxTemp', 'Rainfall', 'Evaporation', 'Sunshine',\n",
      "       'WindGustSpeed', 'WindSpeed9am', 'WindSpeed3pm', 'Humidity9am',\n",
      "       'Humidity3pm', 'Pressure9am', 'Pressure3pm', 'Cloud9am', 'Cloud3pm',\n",
      "       'Temp9am', 'Temp3pm'],\n",
      "      dtype='object')\n",
      "Categorical column names\n",
      " ['Location', 'WindGustDir', 'WindDir9am', 'WindDir3pm', 'RainToday', 'RainTomorrow']\n"
     ]
    }
   ],
   "source": [
    "# We get the names of columns with numeric values. \n",
    "# NOT: We make -2 as rainy today and rainy tomorrow have categorical values.\n",
    "numerical = train.columns[train.dtypes != \"object\"][:-2]\n",
    "\n",
    "# We get the names of columns with categorical values. \n",
    "categorical = list(train.columns[train.dtypes == \"object\"]) \n",
    "categorical.extend((\"RainToday\",\"RainTomorrow\"))\n",
    "print(\"Numerical column names\\n\",numerical)\n",
    "print(\"Categorical column names\\n\",categorical)"
   ]
  },
  {
   "cell_type": "code",
   "execution_count": 9,
   "id": "caf90304",
   "metadata": {
    "execution": {
     "iopub.execute_input": "2022-02-12T16:30:10.343496Z",
     "iopub.status.busy": "2022-02-12T16:30:10.342895Z",
     "iopub.status.idle": "2022-02-12T16:30:10.465831Z",
     "shell.execute_reply": "2022-02-12T16:30:10.466248Z",
     "shell.execute_reply.started": "2022-02-12T16:29:46.935421Z"
    },
    "papermill": {
     "duration": 0.172399,
     "end_time": "2022-02-12T16:30:10.466422",
     "exception": false,
     "start_time": "2022-02-12T16:30:10.294023",
     "status": "completed"
    },
    "tags": []
   },
   "outputs": [
    {
     "data": {
      "text/html": [
       "<div>\n",
       "<style scoped>\n",
       "    .dataframe tbody tr th:only-of-type {\n",
       "        vertical-align: middle;\n",
       "    }\n",
       "\n",
       "    .dataframe tbody tr th {\n",
       "        vertical-align: top;\n",
       "    }\n",
       "\n",
       "    .dataframe thead th {\n",
       "        text-align: right;\n",
       "    }\n",
       "</style>\n",
       "<table border=\"1\" class=\"dataframe\">\n",
       "  <thead>\n",
       "    <tr style=\"text-align: right;\">\n",
       "      <th></th>\n",
       "      <th>count</th>\n",
       "      <th>mean</th>\n",
       "      <th>std</th>\n",
       "      <th>min</th>\n",
       "      <th>25%</th>\n",
       "      <th>50%</th>\n",
       "      <th>75%</th>\n",
       "      <th>max</th>\n",
       "    </tr>\n",
       "  </thead>\n",
       "  <tbody>\n",
       "    <tr>\n",
       "      <th>MinTemp</th>\n",
       "      <td>120652.0</td>\n",
       "      <td>12.041306</td>\n",
       "      <td>6.364594</td>\n",
       "      <td>-8.2</td>\n",
       "      <td>7.5</td>\n",
       "      <td>11.8</td>\n",
       "      <td>16.6</td>\n",
       "      <td>33.9</td>\n",
       "    </tr>\n",
       "    <tr>\n",
       "      <th>MaxTemp</th>\n",
       "      <td>120842.0</td>\n",
       "      <td>23.037835</td>\n",
       "      <td>7.096780</td>\n",
       "      <td>-4.8</td>\n",
       "      <td>17.8</td>\n",
       "      <td>22.4</td>\n",
       "      <td>28.0</td>\n",
       "      <td>48.1</td>\n",
       "    </tr>\n",
       "    <tr>\n",
       "      <th>Rainfall</th>\n",
       "      <td>119145.0</td>\n",
       "      <td>2.345894</td>\n",
       "      <td>8.412144</td>\n",
       "      <td>0.0</td>\n",
       "      <td>0.0</td>\n",
       "      <td>0.0</td>\n",
       "      <td>0.8</td>\n",
       "      <td>367.6</td>\n",
       "    </tr>\n",
       "    <tr>\n",
       "      <th>Evaporation</th>\n",
       "      <td>71329.0</td>\n",
       "      <td>5.400952</td>\n",
       "      <td>4.110998</td>\n",
       "      <td>0.0</td>\n",
       "      <td>2.6</td>\n",
       "      <td>4.6</td>\n",
       "      <td>7.2</td>\n",
       "      <td>86.2</td>\n",
       "    </tr>\n",
       "    <tr>\n",
       "      <th>Sunshine</th>\n",
       "      <td>65698.0</td>\n",
       "      <td>7.592793</td>\n",
       "      <td>3.782469</td>\n",
       "      <td>0.0</td>\n",
       "      <td>4.8</td>\n",
       "      <td>8.4</td>\n",
       "      <td>10.6</td>\n",
       "      <td>14.5</td>\n",
       "    </tr>\n",
       "    <tr>\n",
       "      <th>WindGustSpeed</th>\n",
       "      <td>113212.0</td>\n",
       "      <td>40.154922</td>\n",
       "      <td>13.674200</td>\n",
       "      <td>6.0</td>\n",
       "      <td>31.0</td>\n",
       "      <td>39.0</td>\n",
       "      <td>48.0</td>\n",
       "      <td>135.0</td>\n",
       "    </tr>\n",
       "    <tr>\n",
       "      <th>WindSpeed9am</th>\n",
       "      <td>120354.0</td>\n",
       "      <td>14.097546</td>\n",
       "      <td>8.952567</td>\n",
       "      <td>0.0</td>\n",
       "      <td>7.0</td>\n",
       "      <td>13.0</td>\n",
       "      <td>19.0</td>\n",
       "      <td>87.0</td>\n",
       "    </tr>\n",
       "    <tr>\n",
       "      <th>WindSpeed3pm</th>\n",
       "      <td>119528.0</td>\n",
       "      <td>18.734129</td>\n",
       "      <td>8.841981</td>\n",
       "      <td>0.0</td>\n",
       "      <td>13.0</td>\n",
       "      <td>19.0</td>\n",
       "      <td>24.0</td>\n",
       "      <td>83.0</td>\n",
       "    </tr>\n",
       "    <tr>\n",
       "      <th>Humidity9am</th>\n",
       "      <td>119642.0</td>\n",
       "      <td>68.813577</td>\n",
       "      <td>19.020768</td>\n",
       "      <td>0.0</td>\n",
       "      <td>57.0</td>\n",
       "      <td>70.0</td>\n",
       "      <td>83.0</td>\n",
       "      <td>100.0</td>\n",
       "    </tr>\n",
       "    <tr>\n",
       "      <th>Humidity3pm</th>\n",
       "      <td>118491.0</td>\n",
       "      <td>51.565427</td>\n",
       "      <td>20.766205</td>\n",
       "      <td>0.0</td>\n",
       "      <td>37.0</td>\n",
       "      <td>52.0</td>\n",
       "      <td>66.0</td>\n",
       "      <td>100.0</td>\n",
       "    </tr>\n",
       "    <tr>\n",
       "      <th>Pressure9am</th>\n",
       "      <td>109238.0</td>\n",
       "      <td>1017.671683</td>\n",
       "      <td>7.104944</td>\n",
       "      <td>980.5</td>\n",
       "      <td>1013.0</td>\n",
       "      <td>1017.7</td>\n",
       "      <td>1022.4</td>\n",
       "      <td>1041.0</td>\n",
       "    </tr>\n",
       "    <tr>\n",
       "      <th>Pressure3pm</th>\n",
       "      <td>109271.0</td>\n",
       "      <td>1015.276048</td>\n",
       "      <td>7.032217</td>\n",
       "      <td>977.1</td>\n",
       "      <td>1010.5</td>\n",
       "      <td>1015.3</td>\n",
       "      <td>1020.0</td>\n",
       "      <td>1039.6</td>\n",
       "    </tr>\n",
       "    <tr>\n",
       "      <th>Cloud9am</th>\n",
       "      <td>75814.0</td>\n",
       "      <td>4.408355</td>\n",
       "      <td>2.883862</td>\n",
       "      <td>0.0</td>\n",
       "      <td>1.0</td>\n",
       "      <td>5.0</td>\n",
       "      <td>7.0</td>\n",
       "      <td>9.0</td>\n",
       "    </tr>\n",
       "    <tr>\n",
       "      <th>Cloud3pm</th>\n",
       "      <td>73397.0</td>\n",
       "      <td>4.492486</td>\n",
       "      <td>2.712933</td>\n",
       "      <td>0.0</td>\n",
       "      <td>2.0</td>\n",
       "      <td>5.0</td>\n",
       "      <td>7.0</td>\n",
       "      <td>9.0</td>\n",
       "    </tr>\n",
       "    <tr>\n",
       "      <th>Temp9am</th>\n",
       "      <td>120340.0</td>\n",
       "      <td>16.849092</td>\n",
       "      <td>6.468858</td>\n",
       "      <td>-7.2</td>\n",
       "      <td>12.1</td>\n",
       "      <td>16.5</td>\n",
       "      <td>21.4</td>\n",
       "      <td>40.2</td>\n",
       "    </tr>\n",
       "    <tr>\n",
       "      <th>Temp3pm</th>\n",
       "      <td>119217.0</td>\n",
       "      <td>21.519596</td>\n",
       "      <td>6.918308</td>\n",
       "      <td>-5.4</td>\n",
       "      <td>16.5</td>\n",
       "      <td>20.9</td>\n",
       "      <td>26.2</td>\n",
       "      <td>46.1</td>\n",
       "    </tr>\n",
       "  </tbody>\n",
       "</table>\n",
       "</div>"
      ],
      "text/plain": [
       "                  count         mean        std    min     25%     50%  \\\n",
       "MinTemp        120652.0    12.041306   6.364594   -8.2     7.5    11.8   \n",
       "MaxTemp        120842.0    23.037835   7.096780   -4.8    17.8    22.4   \n",
       "Rainfall       119145.0     2.345894   8.412144    0.0     0.0     0.0   \n",
       "Evaporation     71329.0     5.400952   4.110998    0.0     2.6     4.6   \n",
       "Sunshine        65698.0     7.592793   3.782469    0.0     4.8     8.4   \n",
       "WindGustSpeed  113212.0    40.154922  13.674200    6.0    31.0    39.0   \n",
       "WindSpeed9am   120354.0    14.097546   8.952567    0.0     7.0    13.0   \n",
       "WindSpeed3pm   119528.0    18.734129   8.841981    0.0    13.0    19.0   \n",
       "Humidity9am    119642.0    68.813577  19.020768    0.0    57.0    70.0   \n",
       "Humidity3pm    118491.0    51.565427  20.766205    0.0    37.0    52.0   \n",
       "Pressure9am    109238.0  1017.671683   7.104944  980.5  1013.0  1017.7   \n",
       "Pressure3pm    109271.0  1015.276048   7.032217  977.1  1010.5  1015.3   \n",
       "Cloud9am        75814.0     4.408355   2.883862    0.0     1.0     5.0   \n",
       "Cloud3pm        73397.0     4.492486   2.712933    0.0     2.0     5.0   \n",
       "Temp9am        120340.0    16.849092   6.468858   -7.2    12.1    16.5   \n",
       "Temp3pm        119217.0    21.519596   6.918308   -5.4    16.5    20.9   \n",
       "\n",
       "                  75%     max  \n",
       "MinTemp          16.6    33.9  \n",
       "MaxTemp          28.0    48.1  \n",
       "Rainfall          0.8   367.6  \n",
       "Evaporation       7.2    86.2  \n",
       "Sunshine         10.6    14.5  \n",
       "WindGustSpeed    48.0   135.0  \n",
       "WindSpeed9am     19.0    87.0  \n",
       "WindSpeed3pm     24.0    83.0  \n",
       "Humidity9am      83.0   100.0  \n",
       "Humidity3pm      66.0   100.0  \n",
       "Pressure9am    1022.4  1041.0  \n",
       "Pressure3pm    1020.0  1039.6  \n",
       "Cloud9am          7.0     9.0  \n",
       "Cloud3pm          7.0     9.0  \n",
       "Temp9am          21.4    40.2  \n",
       "Temp3pm          26.2    46.1  "
      ]
     },
     "execution_count": 9,
     "metadata": {},
     "output_type": "execute_result"
    }
   ],
   "source": [
    "# Extracting the statistical information of the train data.\n",
    "train[numerical].describe().T"
   ]
  },
  {
   "cell_type": "markdown",
   "id": "b213ed36",
   "metadata": {
    "papermill": {
     "duration": 0.030234,
     "end_time": "2022-02-12T16:30:10.527019",
     "exception": false,
     "start_time": "2022-02-12T16:30:10.496785",
     "status": "completed"
    },
    "tags": []
   },
   "source": [
    "# **Data visualization**\n",
    "# **Data processing**\n",
    "# **Data cleaning**"
   ]
  },
  {
   "cell_type": "code",
   "execution_count": 10,
   "id": "10d7f97a",
   "metadata": {
    "execution": {
     "iopub.execute_input": "2022-02-12T16:30:10.588771Z",
     "iopub.status.busy": "2022-02-12T16:30:10.588212Z",
     "iopub.status.idle": "2022-02-12T16:30:10.752471Z",
     "shell.execute_reply": "2022-02-12T16:30:10.752953Z",
     "shell.execute_reply.started": "2022-02-12T16:29:47.070803Z"
    },
    "papermill": {
     "duration": 0.196711,
     "end_time": "2022-02-12T16:30:10.753125",
     "exception": false,
     "start_time": "2022-02-12T16:30:10.556414",
     "status": "completed"
    },
    "tags": []
   },
   "outputs": [
    {
     "data": {
      "text/html": [
       "<div>\n",
       "<style scoped>\n",
       "    .dataframe tbody tr th:only-of-type {\n",
       "        vertical-align: middle;\n",
       "    }\n",
       "\n",
       "    .dataframe tbody tr th {\n",
       "        vertical-align: top;\n",
       "    }\n",
       "\n",
       "    .dataframe thead th {\n",
       "        text-align: right;\n",
       "    }\n",
       "</style>\n",
       "<table border=\"1\" class=\"dataframe\">\n",
       "  <thead>\n",
       "    <tr style=\"text-align: right;\">\n",
       "      <th></th>\n",
       "      <th>MinTemp</th>\n",
       "      <th>MaxTemp</th>\n",
       "      <th>Rainfall</th>\n",
       "      <th>Evaporation</th>\n",
       "      <th>Sunshine</th>\n",
       "      <th>WindGustSpeed</th>\n",
       "      <th>WindSpeed9am</th>\n",
       "      <th>WindSpeed3pm</th>\n",
       "      <th>Humidity9am</th>\n",
       "      <th>Humidity3pm</th>\n",
       "      <th>Pressure9am</th>\n",
       "      <th>Pressure3pm</th>\n",
       "      <th>Cloud9am</th>\n",
       "      <th>Cloud3pm</th>\n",
       "      <th>Temp9am</th>\n",
       "      <th>Temp3pm</th>\n",
       "      <th>RainToday</th>\n",
       "      <th>RainTomorrow</th>\n",
       "    </tr>\n",
       "  </thead>\n",
       "  <tbody>\n",
       "    <tr>\n",
       "      <th>MinTemp</th>\n",
       "      <td>1.000000</td>\n",
       "      <td>0.736127</td>\n",
       "      <td>0.101026</td>\n",
       "      <td>0.473868</td>\n",
       "      <td>0.074574</td>\n",
       "      <td>0.171799</td>\n",
       "      <td>0.172627</td>\n",
       "      <td>0.172599</td>\n",
       "      <td>-0.235862</td>\n",
       "      <td>0.002799</td>\n",
       "      <td>-0.437617</td>\n",
       "      <td>-0.448321</td>\n",
       "      <td>0.073597</td>\n",
       "      <td>0.020307</td>\n",
       "      <td>0.900741</td>\n",
       "      <td>0.708917</td>\n",
       "      <td>0.048449</td>\n",
       "      <td>0.076267</td>\n",
       "    </tr>\n",
       "    <tr>\n",
       "      <th>MaxTemp</th>\n",
       "      <td>0.736127</td>\n",
       "      <td>1.000000</td>\n",
       "      <td>-0.078250</td>\n",
       "      <td>0.596595</td>\n",
       "      <td>0.471545</td>\n",
       "      <td>0.060467</td>\n",
       "      <td>0.011003</td>\n",
       "      <td>0.049327</td>\n",
       "      <td>-0.506464</td>\n",
       "      <td>-0.510544</td>\n",
       "      <td>-0.315386</td>\n",
       "      <td>-0.411273</td>\n",
       "      <td>-0.296670</td>\n",
       "      <td>-0.280755</td>\n",
       "      <td>0.888238</td>\n",
       "      <td>0.984641</td>\n",
       "      <td>-0.231679</td>\n",
       "      <td>-0.163741</td>\n",
       "    </tr>\n",
       "    <tr>\n",
       "      <th>Rainfall</th>\n",
       "      <td>0.101026</td>\n",
       "      <td>-0.078250</td>\n",
       "      <td>1.000000</td>\n",
       "      <td>-0.072997</td>\n",
       "      <td>-0.226809</td>\n",
       "      <td>0.134664</td>\n",
       "      <td>0.088803</td>\n",
       "      <td>0.055953</td>\n",
       "      <td>0.223916</td>\n",
       "      <td>0.254210</td>\n",
       "      <td>-0.172098</td>\n",
       "      <td>-0.129593</td>\n",
       "      <td>0.198780</td>\n",
       "      <td>0.172772</td>\n",
       "      <td>0.007944</td>\n",
       "      <td>-0.081162</td>\n",
       "      <td>0.500037</td>\n",
       "      <td>0.234803</td>\n",
       "    </tr>\n",
       "    <tr>\n",
       "      <th>Evaporation</th>\n",
       "      <td>0.473868</td>\n",
       "      <td>0.596595</td>\n",
       "      <td>-0.072997</td>\n",
       "      <td>1.000000</td>\n",
       "      <td>0.366220</td>\n",
       "      <td>0.201823</td>\n",
       "      <td>0.196751</td>\n",
       "      <td>0.129025</td>\n",
       "      <td>-0.514006</td>\n",
       "      <td>-0.397720</td>\n",
       "      <td>-0.265302</td>\n",
       "      <td>-0.289498</td>\n",
       "      <td>-0.193876</td>\n",
       "      <td>-0.189720</td>\n",
       "      <td>0.553230</td>\n",
       "      <td>0.580614</td>\n",
       "      <td>-0.192177</td>\n",
       "      <td>-0.121095</td>\n",
       "    </tr>\n",
       "    <tr>\n",
       "      <th>Sunshine</th>\n",
       "      <td>0.074574</td>\n",
       "      <td>0.471545</td>\n",
       "      <td>-0.226809</td>\n",
       "      <td>0.366220</td>\n",
       "      <td>1.000000</td>\n",
       "      <td>-0.036567</td>\n",
       "      <td>0.004730</td>\n",
       "      <td>0.055523</td>\n",
       "      <td>-0.491114</td>\n",
       "      <td>-0.629277</td>\n",
       "      <td>0.045689</td>\n",
       "      <td>-0.016265</td>\n",
       "      <td>-0.677085</td>\n",
       "      <td>-0.703289</td>\n",
       "      <td>0.293959</td>\n",
       "      <td>0.491828</td>\n",
       "      <td>-0.323182</td>\n",
       "      <td>-0.443940</td>\n",
       "    </tr>\n",
       "    <tr>\n",
       "      <th>WindGustSpeed</th>\n",
       "      <td>0.171799</td>\n",
       "      <td>0.060467</td>\n",
       "      <td>0.134664</td>\n",
       "      <td>0.201823</td>\n",
       "      <td>-0.036567</td>\n",
       "      <td>1.000000</td>\n",
       "      <td>0.607354</td>\n",
       "      <td>0.686115</td>\n",
       "      <td>-0.213371</td>\n",
       "      <td>-0.025853</td>\n",
       "      <td>-0.459241</td>\n",
       "      <td>-0.413887</td>\n",
       "      <td>0.073921</td>\n",
       "      <td>0.111466</td>\n",
       "      <td>0.143137</td>\n",
       "      <td>0.026081</td>\n",
       "      <td>0.153286</td>\n",
       "      <td>0.228603</td>\n",
       "    </tr>\n",
       "    <tr>\n",
       "      <th>WindSpeed9am</th>\n",
       "      <td>0.172627</td>\n",
       "      <td>0.011003</td>\n",
       "      <td>0.088803</td>\n",
       "      <td>0.196751</td>\n",
       "      <td>0.004730</td>\n",
       "      <td>0.607354</td>\n",
       "      <td>1.000000</td>\n",
       "      <td>0.519228</td>\n",
       "      <td>-0.271368</td>\n",
       "      <td>-0.032717</td>\n",
       "      <td>-0.229682</td>\n",
       "      <td>-0.176571</td>\n",
       "      <td>0.026162</td>\n",
       "      <td>0.055726</td>\n",
       "      <td>0.124802</td>\n",
       "      <td>0.000870</td>\n",
       "      <td>0.101294</td>\n",
       "      <td>0.085465</td>\n",
       "    </tr>\n",
       "    <tr>\n",
       "      <th>WindSpeed3pm</th>\n",
       "      <td>0.172599</td>\n",
       "      <td>0.049327</td>\n",
       "      <td>0.055953</td>\n",
       "      <td>0.129025</td>\n",
       "      <td>0.055523</td>\n",
       "      <td>0.686115</td>\n",
       "      <td>0.519228</td>\n",
       "      <td>1.000000</td>\n",
       "      <td>-0.147730</td>\n",
       "      <td>0.011817</td>\n",
       "      <td>-0.297156</td>\n",
       "      <td>-0.256780</td>\n",
       "      <td>0.052284</td>\n",
       "      <td>0.022004</td>\n",
       "      <td>0.160424</td>\n",
       "      <td>0.026541</td>\n",
       "      <td>0.076958</td>\n",
       "      <td>0.082316</td>\n",
       "    </tr>\n",
       "    <tr>\n",
       "      <th>Humidity9am</th>\n",
       "      <td>-0.235862</td>\n",
       "      <td>-0.506464</td>\n",
       "      <td>0.223916</td>\n",
       "      <td>-0.514006</td>\n",
       "      <td>-0.491114</td>\n",
       "      <td>-0.213371</td>\n",
       "      <td>-0.271368</td>\n",
       "      <td>-0.147730</td>\n",
       "      <td>1.000000</td>\n",
       "      <td>0.666244</td>\n",
       "      <td>0.131506</td>\n",
       "      <td>0.179366</td>\n",
       "      <td>0.455530</td>\n",
       "      <td>0.359229</td>\n",
       "      <td>-0.474753</td>\n",
       "      <td>-0.499176</td>\n",
       "      <td>0.349890</td>\n",
       "      <td>0.256895</td>\n",
       "    </tr>\n",
       "    <tr>\n",
       "      <th>Humidity3pm</th>\n",
       "      <td>0.002799</td>\n",
       "      <td>-0.510544</td>\n",
       "      <td>0.254210</td>\n",
       "      <td>-0.397720</td>\n",
       "      <td>-0.629277</td>\n",
       "      <td>-0.025853</td>\n",
       "      <td>-0.032717</td>\n",
       "      <td>0.011817</td>\n",
       "      <td>0.666244</td>\n",
       "      <td>1.000000</td>\n",
       "      <td>-0.033626</td>\n",
       "      <td>0.046226</td>\n",
       "      <td>0.519262</td>\n",
       "      <td>0.525245</td>\n",
       "      <td>-0.224805</td>\n",
       "      <td>-0.559295</td>\n",
       "      <td>0.372679</td>\n",
       "      <td>0.441613</td>\n",
       "    </tr>\n",
       "    <tr>\n",
       "      <th>Pressure9am</th>\n",
       "      <td>-0.437617</td>\n",
       "      <td>-0.315386</td>\n",
       "      <td>-0.172098</td>\n",
       "      <td>-0.265302</td>\n",
       "      <td>0.045689</td>\n",
       "      <td>-0.459241</td>\n",
       "      <td>-0.229682</td>\n",
       "      <td>-0.297156</td>\n",
       "      <td>0.131506</td>\n",
       "      <td>-0.033626</td>\n",
       "      <td>1.000000</td>\n",
       "      <td>0.960948</td>\n",
       "      <td>-0.131088</td>\n",
       "      <td>-0.152576</td>\n",
       "      <td>-0.406988</td>\n",
       "      <td>-0.271665</td>\n",
       "      <td>-0.190020</td>\n",
       "      <td>-0.246405</td>\n",
       "    </tr>\n",
       "    <tr>\n",
       "      <th>Pressure3pm</th>\n",
       "      <td>-0.448321</td>\n",
       "      <td>-0.411273</td>\n",
       "      <td>-0.129593</td>\n",
       "      <td>-0.289498</td>\n",
       "      <td>-0.016265</td>\n",
       "      <td>-0.413887</td>\n",
       "      <td>-0.176571</td>\n",
       "      <td>-0.256780</td>\n",
       "      <td>0.179366</td>\n",
       "      <td>0.046226</td>\n",
       "      <td>0.960948</td>\n",
       "      <td>1.000000</td>\n",
       "      <td>-0.061265</td>\n",
       "      <td>-0.089031</td>\n",
       "      <td>-0.455375</td>\n",
       "      <td>-0.375229</td>\n",
       "      <td>-0.106191</td>\n",
       "      <td>-0.226013</td>\n",
       "    </tr>\n",
       "    <tr>\n",
       "      <th>Cloud9am</th>\n",
       "      <td>0.073597</td>\n",
       "      <td>-0.296670</td>\n",
       "      <td>0.198780</td>\n",
       "      <td>-0.193876</td>\n",
       "      <td>-0.677085</td>\n",
       "      <td>0.073921</td>\n",
       "      <td>0.026162</td>\n",
       "      <td>0.052284</td>\n",
       "      <td>0.455530</td>\n",
       "      <td>0.519262</td>\n",
       "      <td>-0.131088</td>\n",
       "      <td>-0.061265</td>\n",
       "      <td>1.000000</td>\n",
       "      <td>0.608370</td>\n",
       "      <td>-0.144754</td>\n",
       "      <td>-0.308909</td>\n",
       "      <td>0.303318</td>\n",
       "      <td>0.317529</td>\n",
       "    </tr>\n",
       "    <tr>\n",
       "      <th>Cloud3pm</th>\n",
       "      <td>0.020307</td>\n",
       "      <td>-0.280755</td>\n",
       "      <td>0.172772</td>\n",
       "      <td>-0.189720</td>\n",
       "      <td>-0.703289</td>\n",
       "      <td>0.111466</td>\n",
       "      <td>0.055726</td>\n",
       "      <td>0.022004</td>\n",
       "      <td>0.359229</td>\n",
       "      <td>0.525245</td>\n",
       "      <td>-0.152576</td>\n",
       "      <td>-0.089031</td>\n",
       "      <td>0.608370</td>\n",
       "      <td>1.000000</td>\n",
       "      <td>-0.130544</td>\n",
       "      <td>-0.320097</td>\n",
       "      <td>0.270391</td>\n",
       "      <td>0.381623</td>\n",
       "    </tr>\n",
       "    <tr>\n",
       "      <th>Temp9am</th>\n",
       "      <td>0.900741</td>\n",
       "      <td>0.888238</td>\n",
       "      <td>0.007944</td>\n",
       "      <td>0.553230</td>\n",
       "      <td>0.293959</td>\n",
       "      <td>0.143137</td>\n",
       "      <td>0.124802</td>\n",
       "      <td>0.160424</td>\n",
       "      <td>-0.474753</td>\n",
       "      <td>-0.224805</td>\n",
       "      <td>-0.406988</td>\n",
       "      <td>-0.455375</td>\n",
       "      <td>-0.144754</td>\n",
       "      <td>-0.130544</td>\n",
       "      <td>1.000000</td>\n",
       "      <td>0.861769</td>\n",
       "      <td>-0.103091</td>\n",
       "      <td>-0.033301</td>\n",
       "    </tr>\n",
       "    <tr>\n",
       "      <th>Temp3pm</th>\n",
       "      <td>0.708917</td>\n",
       "      <td>0.984641</td>\n",
       "      <td>-0.081162</td>\n",
       "      <td>0.580614</td>\n",
       "      <td>0.491828</td>\n",
       "      <td>0.026081</td>\n",
       "      <td>0.000870</td>\n",
       "      <td>0.026541</td>\n",
       "      <td>-0.499176</td>\n",
       "      <td>-0.559295</td>\n",
       "      <td>-0.271665</td>\n",
       "      <td>-0.375229</td>\n",
       "      <td>-0.308909</td>\n",
       "      <td>-0.320097</td>\n",
       "      <td>0.861769</td>\n",
       "      <td>1.000000</td>\n",
       "      <td>-0.236645</td>\n",
       "      <td>-0.195141</td>\n",
       "    </tr>\n",
       "    <tr>\n",
       "      <th>RainToday</th>\n",
       "      <td>0.048449</td>\n",
       "      <td>-0.231679</td>\n",
       "      <td>0.500037</td>\n",
       "      <td>-0.192177</td>\n",
       "      <td>-0.323182</td>\n",
       "      <td>0.153286</td>\n",
       "      <td>0.101294</td>\n",
       "      <td>0.076958</td>\n",
       "      <td>0.349890</td>\n",
       "      <td>0.372679</td>\n",
       "      <td>-0.190020</td>\n",
       "      <td>-0.106191</td>\n",
       "      <td>0.303318</td>\n",
       "      <td>0.270391</td>\n",
       "      <td>-0.103091</td>\n",
       "      <td>-0.236645</td>\n",
       "      <td>1.000000</td>\n",
       "      <td>0.304534</td>\n",
       "    </tr>\n",
       "    <tr>\n",
       "      <th>RainTomorrow</th>\n",
       "      <td>0.076267</td>\n",
       "      <td>-0.163741</td>\n",
       "      <td>0.234803</td>\n",
       "      <td>-0.121095</td>\n",
       "      <td>-0.443940</td>\n",
       "      <td>0.228603</td>\n",
       "      <td>0.085465</td>\n",
       "      <td>0.082316</td>\n",
       "      <td>0.256895</td>\n",
       "      <td>0.441613</td>\n",
       "      <td>-0.246405</td>\n",
       "      <td>-0.226013</td>\n",
       "      <td>0.317529</td>\n",
       "      <td>0.381623</td>\n",
       "      <td>-0.033301</td>\n",
       "      <td>-0.195141</td>\n",
       "      <td>0.304534</td>\n",
       "      <td>1.000000</td>\n",
       "    </tr>\n",
       "  </tbody>\n",
       "</table>\n",
       "</div>"
      ],
      "text/plain": [
       "                MinTemp   MaxTemp  Rainfall  Evaporation  Sunshine  \\\n",
       "MinTemp        1.000000  0.736127  0.101026     0.473868  0.074574   \n",
       "MaxTemp        0.736127  1.000000 -0.078250     0.596595  0.471545   \n",
       "Rainfall       0.101026 -0.078250  1.000000    -0.072997 -0.226809   \n",
       "Evaporation    0.473868  0.596595 -0.072997     1.000000  0.366220   \n",
       "Sunshine       0.074574  0.471545 -0.226809     0.366220  1.000000   \n",
       "WindGustSpeed  0.171799  0.060467  0.134664     0.201823 -0.036567   \n",
       "WindSpeed9am   0.172627  0.011003  0.088803     0.196751  0.004730   \n",
       "WindSpeed3pm   0.172599  0.049327  0.055953     0.129025  0.055523   \n",
       "Humidity9am   -0.235862 -0.506464  0.223916    -0.514006 -0.491114   \n",
       "Humidity3pm    0.002799 -0.510544  0.254210    -0.397720 -0.629277   \n",
       "Pressure9am   -0.437617 -0.315386 -0.172098    -0.265302  0.045689   \n",
       "Pressure3pm   -0.448321 -0.411273 -0.129593    -0.289498 -0.016265   \n",
       "Cloud9am       0.073597 -0.296670  0.198780    -0.193876 -0.677085   \n",
       "Cloud3pm       0.020307 -0.280755  0.172772    -0.189720 -0.703289   \n",
       "Temp9am        0.900741  0.888238  0.007944     0.553230  0.293959   \n",
       "Temp3pm        0.708917  0.984641 -0.081162     0.580614  0.491828   \n",
       "RainToday      0.048449 -0.231679  0.500037    -0.192177 -0.323182   \n",
       "RainTomorrow   0.076267 -0.163741  0.234803    -0.121095 -0.443940   \n",
       "\n",
       "               WindGustSpeed  WindSpeed9am  WindSpeed3pm  Humidity9am  \\\n",
       "MinTemp             0.171799      0.172627      0.172599    -0.235862   \n",
       "MaxTemp             0.060467      0.011003      0.049327    -0.506464   \n",
       "Rainfall            0.134664      0.088803      0.055953     0.223916   \n",
       "Evaporation         0.201823      0.196751      0.129025    -0.514006   \n",
       "Sunshine           -0.036567      0.004730      0.055523    -0.491114   \n",
       "WindGustSpeed       1.000000      0.607354      0.686115    -0.213371   \n",
       "WindSpeed9am        0.607354      1.000000      0.519228    -0.271368   \n",
       "WindSpeed3pm        0.686115      0.519228      1.000000    -0.147730   \n",
       "Humidity9am        -0.213371     -0.271368     -0.147730     1.000000   \n",
       "Humidity3pm        -0.025853     -0.032717      0.011817     0.666244   \n",
       "Pressure9am        -0.459241     -0.229682     -0.297156     0.131506   \n",
       "Pressure3pm        -0.413887     -0.176571     -0.256780     0.179366   \n",
       "Cloud9am            0.073921      0.026162      0.052284     0.455530   \n",
       "Cloud3pm            0.111466      0.055726      0.022004     0.359229   \n",
       "Temp9am             0.143137      0.124802      0.160424    -0.474753   \n",
       "Temp3pm             0.026081      0.000870      0.026541    -0.499176   \n",
       "RainToday           0.153286      0.101294      0.076958     0.349890   \n",
       "RainTomorrow        0.228603      0.085465      0.082316     0.256895   \n",
       "\n",
       "               Humidity3pm  Pressure9am  Pressure3pm  Cloud9am  Cloud3pm  \\\n",
       "MinTemp           0.002799    -0.437617    -0.448321  0.073597  0.020307   \n",
       "MaxTemp          -0.510544    -0.315386    -0.411273 -0.296670 -0.280755   \n",
       "Rainfall          0.254210    -0.172098    -0.129593  0.198780  0.172772   \n",
       "Evaporation      -0.397720    -0.265302    -0.289498 -0.193876 -0.189720   \n",
       "Sunshine         -0.629277     0.045689    -0.016265 -0.677085 -0.703289   \n",
       "WindGustSpeed    -0.025853    -0.459241    -0.413887  0.073921  0.111466   \n",
       "WindSpeed9am     -0.032717    -0.229682    -0.176571  0.026162  0.055726   \n",
       "WindSpeed3pm      0.011817    -0.297156    -0.256780  0.052284  0.022004   \n",
       "Humidity9am       0.666244     0.131506     0.179366  0.455530  0.359229   \n",
       "Humidity3pm       1.000000    -0.033626     0.046226  0.519262  0.525245   \n",
       "Pressure9am      -0.033626     1.000000     0.960948 -0.131088 -0.152576   \n",
       "Pressure3pm       0.046226     0.960948     1.000000 -0.061265 -0.089031   \n",
       "Cloud9am          0.519262    -0.131088    -0.061265  1.000000  0.608370   \n",
       "Cloud3pm          0.525245    -0.152576    -0.089031  0.608370  1.000000   \n",
       "Temp9am          -0.224805    -0.406988    -0.455375 -0.144754 -0.130544   \n",
       "Temp3pm          -0.559295    -0.271665    -0.375229 -0.308909 -0.320097   \n",
       "RainToday         0.372679    -0.190020    -0.106191  0.303318  0.270391   \n",
       "RainTomorrow      0.441613    -0.246405    -0.226013  0.317529  0.381623   \n",
       "\n",
       "                Temp9am   Temp3pm  RainToday  RainTomorrow  \n",
       "MinTemp        0.900741  0.708917   0.048449      0.076267  \n",
       "MaxTemp        0.888238  0.984641  -0.231679     -0.163741  \n",
       "Rainfall       0.007944 -0.081162   0.500037      0.234803  \n",
       "Evaporation    0.553230  0.580614  -0.192177     -0.121095  \n",
       "Sunshine       0.293959  0.491828  -0.323182     -0.443940  \n",
       "WindGustSpeed  0.143137  0.026081   0.153286      0.228603  \n",
       "WindSpeed9am   0.124802  0.000870   0.101294      0.085465  \n",
       "WindSpeed3pm   0.160424  0.026541   0.076958      0.082316  \n",
       "Humidity9am   -0.474753 -0.499176   0.349890      0.256895  \n",
       "Humidity3pm   -0.224805 -0.559295   0.372679      0.441613  \n",
       "Pressure9am   -0.406988 -0.271665  -0.190020     -0.246405  \n",
       "Pressure3pm   -0.455375 -0.375229  -0.106191     -0.226013  \n",
       "Cloud9am      -0.144754 -0.308909   0.303318      0.317529  \n",
       "Cloud3pm      -0.130544 -0.320097   0.270391      0.381623  \n",
       "Temp9am        1.000000  0.861769  -0.103091     -0.033301  \n",
       "Temp3pm        0.861769  1.000000  -0.236645     -0.195141  \n",
       "RainToday     -0.103091 -0.236645   1.000000      0.304534  \n",
       "RainTomorrow  -0.033301 -0.195141   0.304534      1.000000  "
      ]
     },
     "execution_count": 10,
     "metadata": {},
     "output_type": "execute_result"
    }
   ],
   "source": [
    "train.corr()"
   ]
  },
  {
   "cell_type": "code",
   "execution_count": 11,
   "id": "91d255c3",
   "metadata": {
    "execution": {
     "iopub.execute_input": "2022-02-12T16:30:10.823208Z",
     "iopub.status.busy": "2022-02-12T16:30:10.815545Z",
     "iopub.status.idle": "2022-02-12T16:30:13.070103Z",
     "shell.execute_reply": "2022-02-12T16:30:13.070546Z",
     "shell.execute_reply.started": "2022-02-12T16:29:47.231797Z"
    },
    "papermill": {
     "duration": 2.28724,
     "end_time": "2022-02-12T16:30:13.070706",
     "exception": false,
     "start_time": "2022-02-12T16:30:10.783466",
     "status": "completed"
    },
    "tags": []
   },
   "outputs": [
    {
     "data": {
      "image/png": "[encoded data removed]",
      "text/plain": [
       "<Figure size 1440x2880 with 16 Axes>"
      ]
     },
     "metadata": {
      "needs_background": "light"
     },
     "output_type": "display_data"
    }
   ],
   "source": [
    "# We visualize numeric values to see Outliers values\n",
    "fig = plt.figure(figsize=(20,40))\n",
    "gr = fig.add_gridspec(4,4)\n",
    "\n",
    "axxes = []\n",
    "for i in range (0,4):\n",
    "    for j in range (0,4):\n",
    "        axxes.append(fig.add_subplot(gr[i,j]))\n",
    "        \n",
    "for i in range(0,len(numerical)):\n",
    "    axxes[i].grid(color='#000000', linestyle=':', axis='y')\n",
    "    sns.boxenplot(ax=axxes[i],y=train[numerical[i]],width=0.6)"
   ]
  },
  {
   "cell_type": "markdown",
   "id": "050a22d1",
   "metadata": {
    "papermill": {
     "duration": 0.033161,
     "end_time": "2022-02-12T16:30:13.138369",
     "exception": false,
     "start_time": "2022-02-12T16:30:13.105208",
     "status": "completed"
    },
    "tags": []
   },
   "source": [
    "**IQR**\n",
    "\n",
    "\n",
    "We find outlier values using the IQR formula. We will subtract the values we find from the data."
   ]
  },
  {
   "cell_type": "markdown",
   "id": "7c48d3e8",
   "metadata": {
    "papermill": {
     "duration": 0.033411,
     "end_time": "2022-02-12T16:30:13.205128",
     "exception": false,
     "start_time": "2022-02-12T16:30:13.171717",
     "status": "completed"
    },
    "tags": []
   },
   "source": [
    "![](https://muthu.co/wp-content/uploads/2021/01/mk.png)"
   ]
  },
  {
   "cell_type": "code",
   "execution_count": 12,
   "id": "bdd82187",
   "metadata": {
    "execution": {
     "iopub.execute_input": "2022-02-12T16:30:13.274581Z",
     "iopub.status.busy": "2022-02-12T16:30:13.274027Z",
     "iopub.status.idle": "2022-02-12T16:30:13.382177Z",
     "shell.execute_reply": "2022-02-12T16:30:13.381646Z",
     "shell.execute_reply.started": "2022-02-12T16:29:49.257479Z"
    },
    "papermill": {
     "duration": 0.143907,
     "end_time": "2022-02-12T16:30:13.382333",
     "exception": false,
     "start_time": "2022-02-12T16:30:13.238426",
     "status": "completed"
    },
    "tags": []
   },
   "outputs": [
    {
     "name": "stdout",
     "output_type": "stream",
     "text": [
      "IQR values for columns with numeric values\n",
      " MinTemp           9.1\n",
      "MaxTemp          10.2\n",
      "Rainfall          0.8\n",
      "Evaporation       4.6\n",
      "Sunshine          5.8\n",
      "WindGustSpeed    17.0\n",
      "WindSpeed9am     12.0\n",
      "WindSpeed3pm     11.0\n",
      "Humidity9am      26.0\n",
      "Humidity3pm      29.0\n",
      "Pressure9am       9.4\n",
      "Pressure3pm       9.5\n",
      "Cloud9am          6.0\n",
      "Cloud3pm          5.0\n",
      "Temp9am           9.3\n",
      "Temp3pm           9.7\n",
      "dtype: float64\n"
     ]
    }
   ],
   "source": [
    "# We calculate iqr values.\n",
    "Q1 = train[numerical].quantile(0.25)\n",
    "Q3 = train[numerical].quantile(0.75)\n",
    "IQR = Q3 - Q1\n",
    "\n",
    "print(\"IQR values for columns with numeric values\\n\",IQR)\n",
    "# Dropping outlier values from train data.\n",
    "old_train_shape = train.shape[0]\n",
    "train = train[~((train[numerical] < (Q1 - 1.5 * IQR)) |(train[numerical] > (Q3 + 1.5 * IQR)))\n",
    "              .any(axis=1)]"
   ]
  },
  {
   "cell_type": "code",
   "execution_count": 13,
   "id": "97135570",
   "metadata": {
    "execution": {
     "iopub.execute_input": "2022-02-12T16:30:13.493068Z",
     "iopub.status.busy": "2022-02-12T16:30:13.482310Z",
     "iopub.status.idle": "2022-02-12T16:30:15.627049Z",
     "shell.execute_reply": "2022-02-12T16:30:15.627500Z",
     "shell.execute_reply.started": "2022-02-12T16:29:49.259271Z"
    },
    "papermill": {
     "duration": 2.211553,
     "end_time": "2022-02-12T16:30:15.627664",
     "exception": false,
     "start_time": "2022-02-12T16:30:13.416111",
     "status": "completed"
    },
    "tags": []
   },
   "outputs": [
    {
     "data": {
      "image/png": "[encoded data removed]",
      "text/plain": [
       "<Figure size 1440x2880 with 16 Axes>"
      ]
     },
     "metadata": {
      "needs_background": "light"
     },
     "output_type": "display_data"
    }
   ],
   "source": [
    "# Let's check again after performing the drop.\n",
    "\n",
    "fig = plt.figure(figsize=(20,40))\n",
    "gr = fig.add_gridspec(4,4)\n",
    "\n",
    "axxes = []\n",
    "for i in range (0,4):\n",
    "    for j in range (0,4):\n",
    "        axxes.append(fig.add_subplot(gr[i,j]))\n",
    "        \n",
    "for i in range(0,len(numerical)):\n",
    "    axxes[i].grid(color='#000000', linestyle=':', axis='y')\n",
    "    sns.boxenplot(ax=axxes[i],y=train[numerical[i]],width=0.6)"
   ]
  },
  {
   "cell_type": "markdown",
   "id": "bc3de9c9",
   "metadata": {
    "papermill": {
     "duration": 0.03747,
     "end_time": "2022-02-12T16:30:15.703165",
     "exception": false,
     "start_time": "2022-02-12T16:30:15.665695",
     "status": "completed"
    },
    "tags": []
   },
   "source": [
    "**Looks good now :)**"
   ]
  },
  {
   "cell_type": "code",
   "execution_count": 14,
   "id": "bb9bb394",
   "metadata": {
    "execution": {
     "iopub.execute_input": "2022-02-12T16:30:15.782790Z",
     "iopub.status.busy": "2022-02-12T16:30:15.782218Z",
     "iopub.status.idle": "2022-02-12T16:30:15.786169Z",
     "shell.execute_reply": "2022-02-12T16:30:15.786614Z",
     "shell.execute_reply.started": "2022-02-12T16:29:49.260387Z"
    },
    "papermill": {
     "duration": 0.046194,
     "end_time": "2022-02-12T16:30:15.786773",
     "exception": false,
     "start_time": "2022-02-12T16:30:15.740579",
     "status": "completed"
    },
    "tags": []
   },
   "outputs": [
    {
     "name": "stdout",
     "output_type": "stream",
     "text": [
      "Total dropped outlier values = 28427\n"
     ]
    }
   ],
   "source": [
    "print(\"Total dropped outlier values =\",old_train_shape - train.shape[0])"
   ]
  },
  {
   "cell_type": "code",
   "execution_count": 15,
   "id": "ad55596f",
   "metadata": {
    "execution": {
     "iopub.execute_input": "2022-02-12T16:30:15.866210Z",
     "iopub.status.busy": "2022-02-12T16:30:15.865258Z",
     "iopub.status.idle": "2022-02-12T16:30:15.870347Z",
     "shell.execute_reply": "2022-02-12T16:30:15.871068Z",
     "shell.execute_reply.started": "2022-02-12T16:29:49.261488Z"
    },
    "papermill": {
     "duration": 0.046806,
     "end_time": "2022-02-12T16:30:15.871282",
     "exception": false,
     "start_time": "2022-02-12T16:30:15.824476",
     "status": "completed"
    },
    "tags": []
   },
   "outputs": [
    {
     "name": "stdout",
     "output_type": "stream",
     "text": [
      "New shape of train data = (93446, 22)\n"
     ]
    }
   ],
   "source": [
    "print(\"New shape of train data =\",train.shape)"
   ]
  },
  {
   "cell_type": "code",
   "execution_count": 16,
   "id": "6597b86f",
   "metadata": {
    "execution": {
     "iopub.execute_input": "2022-02-12T16:30:15.958225Z",
     "iopub.status.busy": "2022-02-12T16:30:15.957572Z",
     "iopub.status.idle": "2022-02-12T16:30:15.965234Z",
     "shell.execute_reply": "2022-02-12T16:30:15.965639Z",
     "shell.execute_reply.started": "2022-02-12T16:29:49.262601Z"
    },
    "papermill": {
     "duration": 0.053323,
     "end_time": "2022-02-12T16:30:15.965829",
     "exception": false,
     "start_time": "2022-02-12T16:30:15.912506",
     "status": "completed"
    },
    "tags": []
   },
   "outputs": [
    {
     "name": "stdout",
     "output_type": "stream",
     "text": [
      "MaxTemp            899\n",
      "MinTemp           1068\n",
      "Temp9am           1231\n",
      "WindSpeed9am      1278\n",
      "Humidity9am       1746\n",
      "WindSpeed3pm      1866\n",
      "Temp3pm           2103\n",
      "Rainfall          2524\n",
      "Humidity3pm       2647\n",
      "WindGustSpeed     6632\n",
      "Pressure3pm       9911\n",
      "Pressure9am       9950\n",
      "Cloud9am         36570\n",
      "Cloud3pm         38428\n",
      "Evaporation      39313\n",
      "Sunshine         43612\n",
      "dtype: int64\n"
     ]
    }
   ],
   "source": [
    "nan = train[numerical].isnull().sum().sort_values()\n",
    "print(nan) "
   ]
  },
  {
   "cell_type": "markdown",
   "id": "abe63698",
   "metadata": {
    "papermill": {
     "duration": 0.038308,
     "end_time": "2022-02-12T16:30:16.118546",
     "exception": false,
     "start_time": "2022-02-12T16:30:16.080238",
     "status": "completed"
    },
    "tags": []
   },
   "source": [
    "**We fill in the numeric blank values with the average of that column and in order for the model to know the empty values, we create a new one with the _na of this column. In this column that we created, the empty value will be 1, the full value will be 0.**"
   ]
  },
  {
   "cell_type": "code",
   "execution_count": 17,
   "id": "cb8969fc",
   "metadata": {
    "execution": {
     "iopub.execute_input": "2022-02-12T16:30:16.202106Z",
     "iopub.status.busy": "2022-02-12T16:30:16.200915Z",
     "iopub.status.idle": "2022-02-12T16:30:16.392579Z",
     "shell.execute_reply": "2022-02-12T16:30:16.393010Z",
     "shell.execute_reply.started": "2022-02-12T16:29:49.263956Z"
    },
    "papermill": {
     "duration": 0.236784,
     "end_time": "2022-02-12T16:30:16.393186",
     "exception": false,
     "start_time": "2022-02-12T16:30:16.156402",
     "status": "completed"
    },
    "tags": []
   },
   "outputs": [],
   "source": [
    "for i in range(0,nan.shape[0]):\n",
    "    train[nan.index[i]+\"_na\"] = np.where(train[numerical][nan.index[i]].isnull(), 1, 0)\n",
    "    train[nan.index[i]].fillna(value= train[numerical][nan.index[i]].mean(), inplace = True)"
   ]
  },
  {
   "cell_type": "code",
   "execution_count": 18,
   "id": "c2073487",
   "metadata": {
    "execution": {
     "iopub.execute_input": "2022-02-12T16:30:16.473882Z",
     "iopub.status.busy": "2022-02-12T16:30:16.473271Z",
     "iopub.status.idle": "2022-02-12T16:30:16.494832Z",
     "shell.execute_reply": "2022-02-12T16:30:16.494264Z",
     "shell.execute_reply.started": "2022-02-12T16:29:49.265175Z"
    },
    "papermill": {
     "duration": 0.062777,
     "end_time": "2022-02-12T16:30:16.494964",
     "exception": false,
     "start_time": "2022-02-12T16:30:16.432187",
     "status": "completed"
    },
    "tags": []
   },
   "outputs": [
    {
     "data": {
      "text/html": [
       "<div>\n",
       "<style scoped>\n",
       "    .dataframe tbody tr th:only-of-type {\n",
       "        vertical-align: middle;\n",
       "    }\n",
       "\n",
       "    .dataframe tbody tr th {\n",
       "        vertical-align: top;\n",
       "    }\n",
       "\n",
       "    .dataframe thead th {\n",
       "        text-align: right;\n",
       "    }\n",
       "</style>\n",
       "<table border=\"1\" class=\"dataframe\">\n",
       "  <thead>\n",
       "    <tr style=\"text-align: right;\">\n",
       "      <th></th>\n",
       "      <th>Location</th>\n",
       "      <th>MinTemp</th>\n",
       "      <th>MaxTemp</th>\n",
       "      <th>Rainfall</th>\n",
       "      <th>Evaporation</th>\n",
       "      <th>Sunshine</th>\n",
       "      <th>WindGustDir</th>\n",
       "      <th>WindGustSpeed</th>\n",
       "      <th>WindDir9am</th>\n",
       "      <th>WindDir3pm</th>\n",
       "      <th>...</th>\n",
       "      <th>Temp3pm_na</th>\n",
       "      <th>Rainfall_na</th>\n",
       "      <th>Humidity3pm_na</th>\n",
       "      <th>WindGustSpeed_na</th>\n",
       "      <th>Pressure3pm_na</th>\n",
       "      <th>Pressure9am_na</th>\n",
       "      <th>Cloud9am_na</th>\n",
       "      <th>Cloud3pm_na</th>\n",
       "      <th>Evaporation_na</th>\n",
       "      <th>Sunshine_na</th>\n",
       "    </tr>\n",
       "  </thead>\n",
       "  <tbody>\n",
       "    <tr>\n",
       "      <th>0</th>\n",
       "      <td>Brisbane</td>\n",
       "      <td>13.7</td>\n",
       "      <td>23.6</td>\n",
       "      <td>0.0</td>\n",
       "      <td>5.000000</td>\n",
       "      <td>9.600000</td>\n",
       "      <td>SSE</td>\n",
       "      <td>24.0</td>\n",
       "      <td>SSW</td>\n",
       "      <td>ESE</td>\n",
       "      <td>...</td>\n",
       "      <td>0</td>\n",
       "      <td>0</td>\n",
       "      <td>0</td>\n",
       "      <td>0</td>\n",
       "      <td>0</td>\n",
       "      <td>0</td>\n",
       "      <td>0</td>\n",
       "      <td>0</td>\n",
       "      <td>0</td>\n",
       "      <td>0</td>\n",
       "    </tr>\n",
       "    <tr>\n",
       "      <th>2</th>\n",
       "      <td>Richmond</td>\n",
       "      <td>16.8</td>\n",
       "      <td>30.9</td>\n",
       "      <td>1.0</td>\n",
       "      <td>5.178449</td>\n",
       "      <td>8.073476</td>\n",
       "      <td>NE</td>\n",
       "      <td>35.0</td>\n",
       "      <td>NNW</td>\n",
       "      <td>NE</td>\n",
       "      <td>...</td>\n",
       "      <td>0</td>\n",
       "      <td>0</td>\n",
       "      <td>0</td>\n",
       "      <td>0</td>\n",
       "      <td>0</td>\n",
       "      <td>0</td>\n",
       "      <td>0</td>\n",
       "      <td>1</td>\n",
       "      <td>1</td>\n",
       "      <td>1</td>\n",
       "    </tr>\n",
       "    <tr>\n",
       "      <th>3</th>\n",
       "      <td>NorfolkIsland</td>\n",
       "      <td>13.9</td>\n",
       "      <td>17.1</td>\n",
       "      <td>0.2</td>\n",
       "      <td>3.800000</td>\n",
       "      <td>8.900000</td>\n",
       "      <td>SE</td>\n",
       "      <td>37.0</td>\n",
       "      <td>SE</td>\n",
       "      <td>SSE</td>\n",
       "      <td>...</td>\n",
       "      <td>0</td>\n",
       "      <td>0</td>\n",
       "      <td>0</td>\n",
       "      <td>0</td>\n",
       "      <td>0</td>\n",
       "      <td>0</td>\n",
       "      <td>0</td>\n",
       "      <td>0</td>\n",
       "      <td>0</td>\n",
       "      <td>0</td>\n",
       "    </tr>\n",
       "    <tr>\n",
       "      <th>4</th>\n",
       "      <td>Mildura</td>\n",
       "      <td>16.0</td>\n",
       "      <td>36.1</td>\n",
       "      <td>0.0</td>\n",
       "      <td>6.800000</td>\n",
       "      <td>12.900000</td>\n",
       "      <td>ENE</td>\n",
       "      <td>33.0</td>\n",
       "      <td>ENE</td>\n",
       "      <td>E</td>\n",
       "      <td>...</td>\n",
       "      <td>0</td>\n",
       "      <td>0</td>\n",
       "      <td>0</td>\n",
       "      <td>0</td>\n",
       "      <td>0</td>\n",
       "      <td>0</td>\n",
       "      <td>0</td>\n",
       "      <td>0</td>\n",
       "      <td>0</td>\n",
       "      <td>0</td>\n",
       "    </tr>\n",
       "    <tr>\n",
       "      <th>6</th>\n",
       "      <td>GoldCoast</td>\n",
       "      <td>11.9</td>\n",
       "      <td>24.5</td>\n",
       "      <td>0.0</td>\n",
       "      <td>5.178449</td>\n",
       "      <td>8.073476</td>\n",
       "      <td>NNE</td>\n",
       "      <td>31.0</td>\n",
       "      <td>SSE</td>\n",
       "      <td>E</td>\n",
       "      <td>...</td>\n",
       "      <td>0</td>\n",
       "      <td>0</td>\n",
       "      <td>0</td>\n",
       "      <td>0</td>\n",
       "      <td>0</td>\n",
       "      <td>0</td>\n",
       "      <td>1</td>\n",
       "      <td>1</td>\n",
       "      <td>1</td>\n",
       "      <td>1</td>\n",
       "    </tr>\n",
       "  </tbody>\n",
       "</table>\n",
       "<p>5 rows × 38 columns</p>\n",
       "</div>"
      ],
      "text/plain": [
       "        Location  MinTemp  MaxTemp  Rainfall  Evaporation   Sunshine  \\\n",
       "0       Brisbane     13.7     23.6       0.0     5.000000   9.600000   \n",
       "2       Richmond     16.8     30.9       1.0     5.178449   8.073476   \n",
       "3  NorfolkIsland     13.9     17.1       0.2     3.800000   8.900000   \n",
       "4        Mildura     16.0     36.1       0.0     6.800000  12.900000   \n",
       "6      GoldCoast     11.9     24.5       0.0     5.178449   8.073476   \n",
       "\n",
       "  WindGustDir  WindGustSpeed WindDir9am WindDir3pm  ...  Temp3pm_na  \\\n",
       "0         SSE           24.0        SSW        ESE  ...           0   \n",
       "2          NE           35.0        NNW         NE  ...           0   \n",
       "3          SE           37.0         SE        SSE  ...           0   \n",
       "4         ENE           33.0        ENE          E  ...           0   \n",
       "6         NNE           31.0        SSE          E  ...           0   \n",
       "\n",
       "   Rainfall_na  Humidity3pm_na  WindGustSpeed_na  Pressure3pm_na  \\\n",
       "0            0               0                 0               0   \n",
       "2            0               0                 0               0   \n",
       "3            0               0                 0               0   \n",
       "4            0               0                 0               0   \n",
       "6            0               0                 0               0   \n",
       "\n",
       "   Pressure9am_na  Cloud9am_na  Cloud3pm_na  Evaporation_na  Sunshine_na  \n",
       "0               0            0            0               0            0  \n",
       "2               0            0            1               1            1  \n",
       "3               0            0            0               0            0  \n",
       "4               0            0            0               0            0  \n",
       "6               0            1            1               1            1  \n",
       "\n",
       "[5 rows x 38 columns]"
      ]
     },
     "execution_count": 18,
     "metadata": {},
     "output_type": "execute_result"
    }
   ],
   "source": [
    "train.head()"
   ]
  },
  {
   "cell_type": "code",
   "execution_count": 19,
   "id": "79ec66af",
   "metadata": {
    "execution": {
     "iopub.execute_input": "2022-02-12T16:30:16.581118Z",
     "iopub.status.busy": "2022-02-12T16:30:16.580485Z",
     "iopub.status.idle": "2022-02-12T16:30:16.588620Z",
     "shell.execute_reply": "2022-02-12T16:30:16.589033Z",
     "shell.execute_reply.started": "2022-02-12T16:29:49.266420Z"
    },
    "papermill": {
     "duration": 0.054691,
     "end_time": "2022-02-12T16:30:16.589198",
     "exception": false,
     "start_time": "2022-02-12T16:30:16.534507",
     "status": "completed"
    },
    "tags": []
   },
   "outputs": [
    {
     "data": {
      "text/plain": [
       "MinTemp          0\n",
       "MaxTemp          0\n",
       "Rainfall         0\n",
       "Evaporation      0\n",
       "Sunshine         0\n",
       "WindGustSpeed    0\n",
       "WindSpeed9am     0\n",
       "WindSpeed3pm     0\n",
       "Humidity9am      0\n",
       "Humidity3pm      0\n",
       "Pressure9am      0\n",
       "Pressure3pm      0\n",
       "Cloud9am         0\n",
       "Cloud3pm         0\n",
       "Temp9am          0\n",
       "Temp3pm          0\n",
       "dtype: int64"
      ]
     },
     "execution_count": 19,
     "metadata": {},
     "output_type": "execute_result"
    }
   ],
   "source": [
    "train[numerical].isnull().sum()"
   ]
  },
  {
   "cell_type": "markdown",
   "id": "3aee2e1d",
   "metadata": {
    "papermill": {
     "duration": 0.038858,
     "end_time": "2022-02-12T16:30:16.667559",
     "exception": false,
     "start_time": "2022-02-12T16:30:16.628701",
     "status": "completed"
    },
    "tags": []
   },
   "source": [
    "**We don't have any empty values anymore :D**"
   ]
  },
  {
   "cell_type": "code",
   "execution_count": 20,
   "id": "7bc58902",
   "metadata": {
    "execution": {
     "iopub.execute_input": "2022-02-12T16:30:16.752898Z",
     "iopub.status.busy": "2022-02-12T16:30:16.752314Z",
     "iopub.status.idle": "2022-02-12T16:30:18.091920Z",
     "shell.execute_reply": "2022-02-12T16:30:18.091270Z",
     "shell.execute_reply.started": "2022-02-12T16:29:49.267942Z"
    },
    "papermill": {
     "duration": 1.383332,
     "end_time": "2022-02-12T16:30:18.092096",
     "exception": false,
     "start_time": "2022-02-12T16:30:16.708764",
     "status": "completed"
    },
    "tags": []
   },
   "outputs": [
    {
     "data": {
      "image/png": "[encoded data removed]",
      "text/plain": [
       "<Figure size 1080x504 with 1 Axes>"
      ]
     },
     "metadata": {
      "needs_background": "light"
     },
     "output_type": "display_data"
    },
    {
     "data": {
      "image/png": "[encoded data removed]",
      "text/plain": [
       "<Figure size 1080x504 with 1 Axes>"
      ]
     },
     "metadata": {
      "needs_background": "light"
     },
     "output_type": "display_data"
    },
    {
     "data": {
      "image/png": "[encoded data removed]",
      "text/plain": [
       "<Figure size 1080x504 with 1 Axes>"
      ]
     },
     "metadata": {
      "needs_background": "light"
     },
     "output_type": "display_data"
    },
    {
     "data": {
      "image/png": "[encoded data removed]",
      "text/plain": [
       "<Figure size 1080x504 with 1 Axes>"
      ]
     },
     "metadata": {
      "needs_background": "light"
     },
     "output_type": "display_data"
    },
    {
     "data": {
      "image/png": "[encoded data removed]",
      "text/plain": [
       "<Figure size 1080x504 with 1 Axes>"
      ]
     },
     "metadata": {
      "needs_background": "light"
     },
     "output_type": "display_data"
    }
   ],
   "source": [
    "# We visualize the categorical values\n",
    "for i in range (1 , len(categorical)):\n",
    "    fig = plt.figure(figsize =(15, 7))\n",
    "    sns.barplot(train[categorical[i]].value_counts().index , train[categorical[i]].value_counts())\n",
    "    plt.grid(color='black', linestyle='--', linewidth=.2)\n",
    "    plt.show() "
   ]
  },
  {
   "cell_type": "code",
   "execution_count": 21,
   "id": "952f42f8",
   "metadata": {
    "execution": {
     "iopub.execute_input": "2022-02-12T16:30:18.184926Z",
     "iopub.status.busy": "2022-02-12T16:30:18.184308Z",
     "iopub.status.idle": "2022-02-12T16:30:18.189608Z",
     "shell.execute_reply": "2022-02-12T16:30:18.190077Z",
     "shell.execute_reply.started": "2022-02-12T16:29:49.269201Z"
    },
    "papermill": {
     "duration": 0.054142,
     "end_time": "2022-02-12T16:30:18.190242",
     "exception": false,
     "start_time": "2022-02-12T16:30:18.136100",
     "status": "completed"
    },
    "tags": []
   },
   "outputs": [
    {
     "data": {
      "text/plain": [
       "(Index(['Location', 'MinTemp', 'MaxTemp', 'Rainfall', 'Evaporation', 'Sunshine',\n",
       "        'WindGustDir', 'WindGustSpeed', 'WindDir9am', 'WindDir3pm',\n",
       "        'WindSpeed9am', 'WindSpeed3pm', 'Humidity9am', 'Humidity3pm',\n",
       "        'Pressure9am', 'Pressure3pm', 'Cloud9am', 'Cloud3pm', 'Temp9am',\n",
       "        'Temp3pm', 'RainToday', 'RainTomorrow', 'MaxTemp_na', 'MinTemp_na',\n",
       "        'Temp9am_na', 'WindSpeed9am_na', 'Humidity9am_na', 'WindSpeed3pm_na',\n",
       "        'Temp3pm_na', 'Rainfall_na', 'Humidity3pm_na', 'WindGustSpeed_na',\n",
       "        'Pressure3pm_na', 'Pressure9am_na', 'Cloud9am_na', 'Cloud3pm_na',\n",
       "        'Evaporation_na', 'Sunshine_na'],\n",
       "       dtype='object'),\n",
       " (93446, 38))"
      ]
     },
     "execution_count": 21,
     "metadata": {},
     "output_type": "execute_result"
    }
   ],
   "source": [
    "train.columns, train.shape"
   ]
  },
  {
   "cell_type": "code",
   "execution_count": 22,
   "id": "5531008d",
   "metadata": {
    "execution": {
     "iopub.execute_input": "2022-02-12T16:30:18.282081Z",
     "iopub.status.busy": "2022-02-12T16:30:18.281111Z",
     "iopub.status.idle": "2022-02-12T16:30:18.323196Z",
     "shell.execute_reply": "2022-02-12T16:30:18.323605Z",
     "shell.execute_reply.started": "2022-02-12T16:29:49.271472Z"
    },
    "papermill": {
     "duration": 0.090611,
     "end_time": "2022-02-12T16:30:18.323772",
     "exception": false,
     "start_time": "2022-02-12T16:30:18.233161",
     "status": "completed"
    },
    "tags": []
   },
   "outputs": [
    {
     "data": {
      "text/plain": [
       "WindDir3pm     2641\n",
       "WindGustDir    6665\n",
       "WindDir9am     7541\n",
       "dtype: int64"
      ]
     },
     "execution_count": 22,
     "metadata": {},
     "output_type": "execute_result"
    }
   ],
   "source": [
    "# We are looking at how much empty value categorical columns have.\n",
    "cat = train[ train.columns[ train.isnull().sum() != 0 ] ].isnull().sum().sort_values()\n",
    "cat"
   ]
  },
  {
   "cell_type": "markdown",
   "id": "a4d1f75c",
   "metadata": {
    "papermill": {
     "duration": 0.042906,
     "end_time": "2022-02-12T16:30:18.409892",
     "exception": false,
     "start_time": "2022-02-12T16:30:18.366986",
     "status": "completed"
    },
    "tags": []
   },
   "source": [
    "**We will fill the empty categorical values with the 3 values that repeat the most. We will also do the work of creating a new column here.(colon_name+\"_na\")**"
   ]
  },
  {
   "cell_type": "code",
   "execution_count": 23,
   "id": "36f3487a",
   "metadata": {
    "execution": {
     "iopub.execute_input": "2022-02-12T16:30:18.499724Z",
     "iopub.status.busy": "2022-02-12T16:30:18.499150Z",
     "iopub.status.idle": "2022-02-12T16:30:18.523159Z",
     "shell.execute_reply": "2022-02-12T16:30:18.523610Z",
     "shell.execute_reply.started": "2022-02-12T16:29:49.272990Z"
    },
    "papermill": {
     "duration": 0.07071,
     "end_time": "2022-02-12T16:30:18.523773",
     "exception": false,
     "start_time": "2022-02-12T16:30:18.453063",
     "status": "completed"
    },
    "tags": []
   },
   "outputs": [
    {
     "name": "stdout",
     "output_type": "stream",
     "text": [
      "[Index(['SE', 'S', 'NE'], dtype='object'), Index(['E', 'SE', 'N'], dtype='object'), Index(['N', 'E', 'SE'], dtype='object')]\n"
     ]
    }
   ],
   "source": [
    "liste = []\n",
    "for i in range(0,cat.shape[0]):\n",
    "    value = train[cat.index[i]].value_counts().sort_values(ascending=False)\n",
    "    liste.append(value.index[:3])\n",
    "print(liste)"
   ]
  },
  {
   "cell_type": "code",
   "execution_count": 24,
   "id": "4dc41831",
   "metadata": {
    "execution": {
     "iopub.execute_input": "2022-02-12T16:30:18.618392Z",
     "iopub.status.busy": "2022-02-12T16:30:18.617444Z",
     "iopub.status.idle": "2022-02-12T16:30:18.622376Z",
     "shell.execute_reply": "2022-02-12T16:30:18.621486Z",
     "shell.execute_reply.started": "2022-02-12T16:29:49.274501Z"
    },
    "papermill": {
     "duration": 0.055052,
     "end_time": "2022-02-12T16:30:18.622587",
     "exception": false,
     "start_time": "2022-02-12T16:30:18.567535",
     "status": "completed"
    },
    "tags": []
   },
   "outputs": [
    {
     "name": "stdout",
     "output_type": "stream",
     "text": [
      "[Index(['SE', 'S', 'NE'], dtype='object'), Index(['E', 'SE', 'N'], dtype='object'), Index(['N', 'E', 'SE'], dtype='object')]\n",
      "\n",
      " 0 . list\n",
      "S\n",
      "S\n",
      "S\n",
      "S\n",
      "NE\n",
      "SE\n",
      "S\n",
      "S\n",
      "NE\n",
      "S\n",
      "\n",
      " 1 . list\n",
      "E\n",
      "N\n",
      "SE\n",
      "N\n",
      "SE\n",
      "SE\n",
      "N\n",
      "SE\n",
      "N\n",
      "SE\n",
      "\n",
      " 2 . list\n",
      "E\n",
      "E\n",
      "N\n",
      "N\n",
      "E\n",
      "E\n",
      "E\n",
      "N\n",
      "SE\n",
      "E\n"
     ]
    }
   ],
   "source": [
    "#So that there is no doubt in your mind.\n",
    "print(liste)\n",
    "for i in range(0,len(liste)):\n",
    "    print(\"\\n\",i,\". list\")\n",
    "    for j in range (0,10):\n",
    "        print(random.choice(liste[i]))"
   ]
  },
  {
   "cell_type": "code",
   "execution_count": 25,
   "id": "6a3ccb2d",
   "metadata": {
    "execution": {
     "iopub.execute_input": "2022-02-12T16:30:18.716160Z",
     "iopub.status.busy": "2022-02-12T16:30:18.715472Z",
     "iopub.status.idle": "2022-02-12T16:30:18.748530Z",
     "shell.execute_reply": "2022-02-12T16:30:18.749091Z",
     "shell.execute_reply.started": "2022-02-12T16:29:49.275917Z"
    },
    "papermill": {
     "duration": 0.081381,
     "end_time": "2022-02-12T16:30:18.749266",
     "exception": false,
     "start_time": "2022-02-12T16:30:18.667885",
     "status": "completed"
    },
    "tags": []
   },
   "outputs": [],
   "source": [
    "for i in range(0,cat.shape[0]):\n",
    "    train[cat.index[i]+\"_na\"] = np.where(train[cat.index[i]].isnull(), 1, 0)\n",
    "    train[cat.index[i]].fillna(value=random.choice(liste[i]) , inplace = True)"
   ]
  },
  {
   "cell_type": "code",
   "execution_count": 26,
   "id": "dea9ba94",
   "metadata": {
    "execution": {
     "iopub.execute_input": "2022-02-12T16:30:18.842955Z",
     "iopub.status.busy": "2022-02-12T16:30:18.842311Z",
     "iopub.status.idle": "2022-02-12T16:30:18.848590Z",
     "shell.execute_reply": "2022-02-12T16:30:18.849032Z",
     "shell.execute_reply.started": "2022-02-12T16:29:49.277354Z"
    },
    "papermill": {
     "duration": 0.0553,
     "end_time": "2022-02-12T16:30:18.849219",
     "exception": false,
     "start_time": "2022-02-12T16:30:18.793919",
     "status": "completed"
    },
    "tags": []
   },
   "outputs": [
    {
     "data": {
      "text/plain": [
       "(93446, 41)"
      ]
     },
     "execution_count": 26,
     "metadata": {},
     "output_type": "execute_result"
    }
   ],
   "source": [
    "train.shape"
   ]
  },
  {
   "cell_type": "code",
   "execution_count": 27,
   "id": "e42fcf95",
   "metadata": {
    "execution": {
     "iopub.execute_input": "2022-02-12T16:30:18.942628Z",
     "iopub.status.busy": "2022-02-12T16:30:18.941979Z",
     "iopub.status.idle": "2022-02-12T16:30:18.970399Z",
     "shell.execute_reply": "2022-02-12T16:30:18.969874Z",
     "shell.execute_reply.started": "2022-02-12T16:29:49.278838Z"
    },
    "papermill": {
     "duration": 0.076517,
     "end_time": "2022-02-12T16:30:18.970540",
     "exception": false,
     "start_time": "2022-02-12T16:30:18.894023",
     "status": "completed"
    },
    "tags": []
   },
   "outputs": [
    {
     "data": {
      "text/plain": [
       "Location            0\n",
       "MinTemp             0\n",
       "MaxTemp             0\n",
       "Rainfall            0\n",
       "Evaporation         0\n",
       "Sunshine            0\n",
       "WindGustDir         0\n",
       "WindGustSpeed       0\n",
       "WindDir9am          0\n",
       "WindDir3pm          0\n",
       "WindSpeed9am        0\n",
       "WindSpeed3pm        0\n",
       "Humidity9am         0\n",
       "Humidity3pm         0\n",
       "Pressure9am         0\n",
       "Pressure3pm         0\n",
       "Cloud9am            0\n",
       "Cloud3pm            0\n",
       "Temp9am             0\n",
       "Temp3pm             0\n",
       "RainToday           0\n",
       "RainTomorrow        0\n",
       "MaxTemp_na          0\n",
       "MinTemp_na          0\n",
       "Temp9am_na          0\n",
       "WindSpeed9am_na     0\n",
       "Humidity9am_na      0\n",
       "WindSpeed3pm_na     0\n",
       "Temp3pm_na          0\n",
       "Rainfall_na         0\n",
       "Humidity3pm_na      0\n",
       "WindGustSpeed_na    0\n",
       "Pressure3pm_na      0\n",
       "Pressure9am_na      0\n",
       "Cloud9am_na         0\n",
       "Cloud3pm_na         0\n",
       "Evaporation_na      0\n",
       "Sunshine_na         0\n",
       "WindDir3pm_na       0\n",
       "WindGustDir_na      0\n",
       "WindDir9am_na       0\n",
       "dtype: int64"
      ]
     },
     "execution_count": 27,
     "metadata": {},
     "output_type": "execute_result"
    }
   ],
   "source": [
    "train.isnull().sum()"
   ]
  },
  {
   "cell_type": "markdown",
   "id": "77771c81",
   "metadata": {
    "papermill": {
     "duration": 0.044717,
     "end_time": "2022-02-12T16:30:19.060402",
     "exception": false,
     "start_time": "2022-02-12T16:30:19.015685",
     "status": "completed"
    },
    "tags": []
   },
   "source": [
    "**We don't have any null values now :+)**"
   ]
  },
  {
   "cell_type": "code",
   "execution_count": 28,
   "id": "cc87617e",
   "metadata": {
    "execution": {
     "iopub.execute_input": "2022-02-12T16:30:19.153450Z",
     "iopub.status.busy": "2022-02-12T16:30:19.152890Z",
     "iopub.status.idle": "2022-02-12T16:30:19.157287Z",
     "shell.execute_reply": "2022-02-12T16:30:19.157789Z",
     "shell.execute_reply.started": "2022-02-12T16:29:49.280063Z"
    },
    "papermill": {
     "duration": 0.05205,
     "end_time": "2022-02-12T16:30:19.157966",
     "exception": false,
     "start_time": "2022-02-12T16:30:19.105916",
     "status": "completed"
    },
    "tags": []
   },
   "outputs": [
    {
     "data": {
      "text/plain": [
       "Index(['Location', 'MinTemp', 'MaxTemp', 'Rainfall', 'Evaporation', 'Sunshine',\n",
       "       'WindGustDir', 'WindGustSpeed', 'WindDir9am', 'WindDir3pm',\n",
       "       'WindSpeed9am', 'WindSpeed3pm', 'Humidity9am', 'Humidity3pm',\n",
       "       'Pressure9am', 'Pressure3pm', 'Cloud9am', 'Cloud3pm', 'Temp9am',\n",
       "       'Temp3pm', 'RainToday', 'RainTomorrow', 'MaxTemp_na', 'MinTemp_na',\n",
       "       'Temp9am_na', 'WindSpeed9am_na', 'Humidity9am_na', 'WindSpeed3pm_na',\n",
       "       'Temp3pm_na', 'Rainfall_na', 'Humidity3pm_na', 'WindGustSpeed_na',\n",
       "       'Pressure3pm_na', 'Pressure9am_na', 'Cloud9am_na', 'Cloud3pm_na',\n",
       "       'Evaporation_na', 'Sunshine_na', 'WindDir3pm_na', 'WindGustDir_na',\n",
       "       'WindDir9am_na'],\n",
       "      dtype='object')"
      ]
     },
     "execution_count": 28,
     "metadata": {},
     "output_type": "execute_result"
    }
   ],
   "source": [
    "train.columns"
   ]
  },
  {
   "cell_type": "code",
   "execution_count": 29,
   "id": "7aee48a4",
   "metadata": {
    "execution": {
     "iopub.execute_input": "2022-02-12T16:30:19.257016Z",
     "iopub.status.busy": "2022-02-12T16:30:19.255066Z",
     "iopub.status.idle": "2022-02-12T16:30:19.394126Z",
     "shell.execute_reply": "2022-02-12T16:30:19.393634Z",
     "shell.execute_reply.started": "2022-02-12T16:29:49.281832Z"
    },
    "papermill": {
     "duration": 0.191127,
     "end_time": "2022-02-12T16:30:19.394273",
     "exception": false,
     "start_time": "2022-02-12T16:30:19.203146",
     "status": "completed"
    },
    "tags": []
   },
   "outputs": [
    {
     "data": {
      "text/html": [
       "<div>\n",
       "<style scoped>\n",
       "    .dataframe tbody tr th:only-of-type {\n",
       "        vertical-align: middle;\n",
       "    }\n",
       "\n",
       "    .dataframe tbody tr th {\n",
       "        vertical-align: top;\n",
       "    }\n",
       "\n",
       "    .dataframe thead th {\n",
       "        text-align: right;\n",
       "    }\n",
       "</style>\n",
       "<table border=\"1\" class=\"dataframe\">\n",
       "  <thead>\n",
       "    <tr style=\"text-align: right;\">\n",
       "      <th></th>\n",
       "      <th>MinTemp</th>\n",
       "      <th>MaxTemp</th>\n",
       "      <th>Rainfall</th>\n",
       "      <th>Evaporation</th>\n",
       "      <th>Sunshine</th>\n",
       "      <th>WindGustSpeed</th>\n",
       "      <th>WindSpeed9am</th>\n",
       "      <th>WindSpeed3pm</th>\n",
       "      <th>Humidity9am</th>\n",
       "      <th>Humidity3pm</th>\n",
       "      <th>...</th>\n",
       "      <th>WindDir3pm_NNW</th>\n",
       "      <th>WindDir3pm_NW</th>\n",
       "      <th>WindDir3pm_S</th>\n",
       "      <th>WindDir3pm_SE</th>\n",
       "      <th>WindDir3pm_SSE</th>\n",
       "      <th>WindDir3pm_SSW</th>\n",
       "      <th>WindDir3pm_SW</th>\n",
       "      <th>WindDir3pm_W</th>\n",
       "      <th>WindDir3pm_WNW</th>\n",
       "      <th>WindDir3pm_WSW</th>\n",
       "    </tr>\n",
       "  </thead>\n",
       "  <tbody>\n",
       "    <tr>\n",
       "      <th>0</th>\n",
       "      <td>13.7</td>\n",
       "      <td>23.6</td>\n",
       "      <td>0.0</td>\n",
       "      <td>5.000000</td>\n",
       "      <td>9.600000</td>\n",
       "      <td>24.0</td>\n",
       "      <td>7.0</td>\n",
       "      <td>9.0</td>\n",
       "      <td>65.0</td>\n",
       "      <td>53.0</td>\n",
       "      <td>...</td>\n",
       "      <td>0</td>\n",
       "      <td>0</td>\n",
       "      <td>0</td>\n",
       "      <td>0</td>\n",
       "      <td>0</td>\n",
       "      <td>0</td>\n",
       "      <td>0</td>\n",
       "      <td>0</td>\n",
       "      <td>0</td>\n",
       "      <td>0</td>\n",
       "    </tr>\n",
       "    <tr>\n",
       "      <th>2</th>\n",
       "      <td>16.8</td>\n",
       "      <td>30.9</td>\n",
       "      <td>1.0</td>\n",
       "      <td>5.178449</td>\n",
       "      <td>8.073476</td>\n",
       "      <td>35.0</td>\n",
       "      <td>7.0</td>\n",
       "      <td>26.0</td>\n",
       "      <td>80.0</td>\n",
       "      <td>38.0</td>\n",
       "      <td>...</td>\n",
       "      <td>0</td>\n",
       "      <td>0</td>\n",
       "      <td>0</td>\n",
       "      <td>0</td>\n",
       "      <td>0</td>\n",
       "      <td>0</td>\n",
       "      <td>0</td>\n",
       "      <td>0</td>\n",
       "      <td>0</td>\n",
       "      <td>0</td>\n",
       "    </tr>\n",
       "    <tr>\n",
       "      <th>3</th>\n",
       "      <td>13.9</td>\n",
       "      <td>17.1</td>\n",
       "      <td>0.2</td>\n",
       "      <td>3.800000</td>\n",
       "      <td>8.900000</td>\n",
       "      <td>37.0</td>\n",
       "      <td>17.0</td>\n",
       "      <td>20.0</td>\n",
       "      <td>56.0</td>\n",
       "      <td>63.0</td>\n",
       "      <td>...</td>\n",
       "      <td>0</td>\n",
       "      <td>0</td>\n",
       "      <td>0</td>\n",
       "      <td>0</td>\n",
       "      <td>1</td>\n",
       "      <td>0</td>\n",
       "      <td>0</td>\n",
       "      <td>0</td>\n",
       "      <td>0</td>\n",
       "      <td>0</td>\n",
       "    </tr>\n",
       "    <tr>\n",
       "      <th>4</th>\n",
       "      <td>16.0</td>\n",
       "      <td>36.1</td>\n",
       "      <td>0.0</td>\n",
       "      <td>6.800000</td>\n",
       "      <td>12.900000</td>\n",
       "      <td>33.0</td>\n",
       "      <td>17.0</td>\n",
       "      <td>19.0</td>\n",
       "      <td>58.0</td>\n",
       "      <td>32.0</td>\n",
       "      <td>...</td>\n",
       "      <td>0</td>\n",
       "      <td>0</td>\n",
       "      <td>0</td>\n",
       "      <td>0</td>\n",
       "      <td>0</td>\n",
       "      <td>0</td>\n",
       "      <td>0</td>\n",
       "      <td>0</td>\n",
       "      <td>0</td>\n",
       "      <td>0</td>\n",
       "    </tr>\n",
       "    <tr>\n",
       "      <th>6</th>\n",
       "      <td>11.9</td>\n",
       "      <td>24.5</td>\n",
       "      <td>0.0</td>\n",
       "      <td>5.178449</td>\n",
       "      <td>8.073476</td>\n",
       "      <td>31.0</td>\n",
       "      <td>20.0</td>\n",
       "      <td>20.0</td>\n",
       "      <td>42.0</td>\n",
       "      <td>56.0</td>\n",
       "      <td>...</td>\n",
       "      <td>0</td>\n",
       "      <td>0</td>\n",
       "      <td>0</td>\n",
       "      <td>0</td>\n",
       "      <td>0</td>\n",
       "      <td>0</td>\n",
       "      <td>0</td>\n",
       "      <td>0</td>\n",
       "      <td>0</td>\n",
       "      <td>0</td>\n",
       "    </tr>\n",
       "  </tbody>\n",
       "</table>\n",
       "<p>5 rows × 134 columns</p>\n",
       "</div>"
      ],
      "text/plain": [
       "   MinTemp  MaxTemp  Rainfall  Evaporation   Sunshine  WindGustSpeed  \\\n",
       "0     13.7     23.6       0.0     5.000000   9.600000           24.0   \n",
       "2     16.8     30.9       1.0     5.178449   8.073476           35.0   \n",
       "3     13.9     17.1       0.2     3.800000   8.900000           37.0   \n",
       "4     16.0     36.1       0.0     6.800000  12.900000           33.0   \n",
       "6     11.9     24.5       0.0     5.178449   8.073476           31.0   \n",
       "\n",
       "   WindSpeed9am  WindSpeed3pm  Humidity9am  Humidity3pm  ...  WindDir3pm_NNW  \\\n",
       "0           7.0           9.0         65.0         53.0  ...               0   \n",
       "2           7.0          26.0         80.0         38.0  ...               0   \n",
       "3          17.0          20.0         56.0         63.0  ...               0   \n",
       "4          17.0          19.0         58.0         32.0  ...               0   \n",
       "6          20.0          20.0         42.0         56.0  ...               0   \n",
       "\n",
       "   WindDir3pm_NW  WindDir3pm_S  WindDir3pm_SE  WindDir3pm_SSE  WindDir3pm_SSW  \\\n",
       "0              0             0              0               0               0   \n",
       "2              0             0              0               0               0   \n",
       "3              0             0              0               1               0   \n",
       "4              0             0              0               0               0   \n",
       "6              0             0              0               0               0   \n",
       "\n",
       "   WindDir3pm_SW  WindDir3pm_W  WindDir3pm_WNW  WindDir3pm_WSW  \n",
       "0              0             0               0               0  \n",
       "2              0             0               0               0  \n",
       "3              0             0               0               0  \n",
       "4              0             0               0               0  \n",
       "6              0             0               0               0  \n",
       "\n",
       "[5 rows x 134 columns]"
      ]
     },
     "execution_count": 29,
     "metadata": {},
     "output_type": "execute_result"
    }
   ],
   "source": [
    "# We apply categorical data to one hot encoding.\n",
    "train= pd.get_dummies(train)\n",
    "train.head()"
   ]
  },
  {
   "cell_type": "code",
   "execution_count": 30,
   "id": "0490f9e8",
   "metadata": {
    "execution": {
     "iopub.execute_input": "2022-02-12T16:30:19.502706Z",
     "iopub.status.busy": "2022-02-12T16:30:19.502100Z",
     "iopub.status.idle": "2022-02-12T16:30:19.506021Z",
     "shell.execute_reply": "2022-02-12T16:30:19.506410Z",
     "shell.execute_reply.started": "2022-02-12T16:29:49.283424Z"
    },
    "papermill": {
     "duration": 0.065395,
     "end_time": "2022-02-12T16:30:19.506585",
     "exception": false,
     "start_time": "2022-02-12T16:30:19.441190",
     "status": "completed"
    },
    "tags": []
   },
   "outputs": [
    {
     "name": "stdout",
     "output_type": "stream",
     "text": [
      "<class 'pandas.core.frame.DataFrame'>\n",
      "Int64Index: 93446 entries, 0 to 121872\n",
      "Columns: 134 entries, MinTemp to WindDir3pm_WSW\n",
      "dtypes: float64(16), int32(19), int64(2), uint8(97)\n",
      "memory usage: 29.0 MB\n"
     ]
    }
   ],
   "source": [
    "train.info()"
   ]
  },
  {
   "cell_type": "code",
   "execution_count": 31,
   "id": "bb9a111b",
   "metadata": {
    "execution": {
     "iopub.execute_input": "2022-02-12T16:30:19.604612Z",
     "iopub.status.busy": "2022-02-12T16:30:19.604029Z",
     "iopub.status.idle": "2022-02-12T16:30:19.606533Z",
     "shell.execute_reply": "2022-02-12T16:30:19.606945Z",
     "shell.execute_reply.started": "2022-02-12T16:29:49.284846Z"
    },
    "papermill": {
     "duration": 0.053599,
     "end_time": "2022-02-12T16:30:19.607123",
     "exception": false,
     "start_time": "2022-02-12T16:30:19.553524",
     "status": "completed"
    },
    "tags": []
   },
   "outputs": [
    {
     "data": {
      "text/plain": [
       "Index(['MinTemp', 'MaxTemp', 'Rainfall', 'Evaporation', 'Sunshine',\n",
       "       'WindGustSpeed', 'WindSpeed9am', 'WindSpeed3pm', 'Humidity9am',\n",
       "       'Humidity3pm',\n",
       "       ...\n",
       "       'WindDir3pm_NNW', 'WindDir3pm_NW', 'WindDir3pm_S', 'WindDir3pm_SE',\n",
       "       'WindDir3pm_SSE', 'WindDir3pm_SSW', 'WindDir3pm_SW', 'WindDir3pm_W',\n",
       "       'WindDir3pm_WNW', 'WindDir3pm_WSW'],\n",
       "      dtype='object', length=134)"
      ]
     },
     "execution_count": 31,
     "metadata": {},
     "output_type": "execute_result"
    }
   ],
   "source": [
    "Cname = train.columns\n",
    "Cname"
   ]
  },
  {
   "cell_type": "code",
   "execution_count": 32,
   "id": "cefcd21e",
   "metadata": {
    "execution": {
     "iopub.execute_input": "2022-02-12T16:30:19.704757Z",
     "iopub.status.busy": "2022-02-12T16:30:19.704090Z",
     "iopub.status.idle": "2022-02-12T16:30:19.906991Z",
     "shell.execute_reply": "2022-02-12T16:30:19.906421Z",
     "shell.execute_reply.started": "2022-02-12T16:29:49.286312Z"
    },
    "papermill": {
     "duration": 0.253516,
     "end_time": "2022-02-12T16:30:19.907159",
     "exception": false,
     "start_time": "2022-02-12T16:30:19.653643",
     "status": "completed"
    },
    "tags": []
   },
   "outputs": [],
   "source": [
    "# We normalize the data\n",
    "scaler = MinMaxScaler()\n",
    "train = pd.DataFrame(scaler.fit_transform(train),columns=Cname)"
   ]
  },
  {
   "cell_type": "code",
   "execution_count": 33,
   "id": "29ec87fb",
   "metadata": {
    "execution": {
     "iopub.execute_input": "2022-02-12T16:30:20.006005Z",
     "iopub.status.busy": "2022-02-12T16:30:20.005075Z",
     "iopub.status.idle": "2022-02-12T16:30:20.041168Z",
     "shell.execute_reply": "2022-02-12T16:30:20.041640Z",
     "shell.execute_reply.started": "2022-02-12T16:29:49.287784Z"
    },
    "papermill": {
     "duration": 0.085828,
     "end_time": "2022-02-12T16:30:20.041805",
     "exception": false,
     "start_time": "2022-02-12T16:30:19.955977",
     "status": "completed"
    },
    "tags": []
   },
   "outputs": [],
   "source": [
    "y_train = pd.DataFrame(train[\"RainTomorrow\"])\n",
    "x_train = train.drop([\"RainTomorrow\"],axis=1)"
   ]
  },
  {
   "cell_type": "markdown",
   "id": "9531b7ea",
   "metadata": {
    "papermill": {
     "duration": 0.04714,
     "end_time": "2022-02-12T16:30:20.136836",
     "exception": false,
     "start_time": "2022-02-12T16:30:20.089696",
     "status": "completed"
    },
    "tags": []
   },
   "source": [
    "# **Modelling**"
   ]
  },
  {
   "cell_type": "code",
   "execution_count": 34,
   "id": "df541f3d",
   "metadata": {
    "execution": {
     "iopub.execute_input": "2022-02-12T16:30:20.233368Z",
     "iopub.status.busy": "2022-02-12T16:30:20.232423Z",
     "iopub.status.idle": "2022-02-12T16:34:38.896629Z",
     "shell.execute_reply": "2022-02-12T16:34:38.897145Z",
     "shell.execute_reply.started": "2022-02-12T16:29:49.288886Z"
    },
    "papermill": {
     "duration": 258.713714,
     "end_time": "2022-02-12T16:34:38.897337",
     "exception": false,
     "start_time": "2022-02-12T16:30:20.183623",
     "status": "completed"
    },
    "tags": []
   },
   "outputs": [
    {
     "data": {
      "text/html": [
       "<style>#sk-container-id-1 {color: black;background-color: white;}#sk-container-id-1 pre{padding: 0;}#sk-container-id-1 div.sk-toggleable {background-color: white;}#sk-container-id-1 label.sk-toggleable__label {cursor: pointer;display: block;width: 100%;margin-bottom: 0;padding: 0.3em;box-sizing: border-box;text-align: center;}#sk-container-id-1 label.sk-toggleable__label-arrow:before {content: \"▸\";float: left;margin-right: 0.25em;color: #696969;}#sk-container-id-1 label.sk-toggleable__label-arrow:hover:before {color: black;}#sk-container-id-1 div.sk-estimator:hover label.sk-toggleable__label-arrow:before {color: black;}#sk-container-id-1 div.sk-toggleable__content {max-height: 0;max-width: 0;overflow: hidden;text-align: left;background-color: #f0f8ff;}#sk-container-id-1 div.sk-toggleable__content pre {margin: 0.2em;color: black;border-radius: 0.25em;background-color: #f0f8ff;}#sk-container-id-1 input.sk-toggleable__control:checked~div.sk-toggleable__content {max-height: 200px;max-width: 100%;overflow: auto;}#sk-container-id-1 input.sk-toggleable__control:checked~label.sk-toggleable__label-arrow:before {content: \"▾\";}#sk-container-id-1 div.sk-estimator input.sk-toggleable__control:checked~label.sk-toggleable__label {background-color: #d4ebff;}#sk-container-id-1 div.sk-label input.sk-toggleable__control:checked~label.sk-toggleable__label {background-color: #d4ebff;}#sk-container-id-1 input.sk-hidden--visually {border: 0;clip: rect(1px 1px 1px 1px);clip: rect(1px, 1px, 1px, 1px);height: 1px;margin: -1px;overflow: hidden;padding: 0;position: absolute;width: 1px;}#sk-container-id-1 div.sk-estimator {font-family: monospace;background-color: #f0f8ff;border: 1px dotted black;border-radius: 0.25em;box-sizing: border-box;margin-bottom: 0.5em;}#sk-container-id-1 div.sk-estimator:hover {background-color: #d4ebff;}#sk-container-id-1 div.sk-parallel-item::after {content: \"\";width: 100%;border-bottom: 1px solid gray;flex-grow: 1;}#sk-container-id-1 div.sk-label:hover label.sk-toggleable__label {background-color: #d4ebff;}#sk-container-id-1 div.sk-serial::before {content: \"\";position: absolute;border-left: 1px solid gray;box-sizing: border-box;top: 0;bottom: 0;left: 50%;z-index: 0;}#sk-container-id-1 div.sk-serial {display: flex;flex-direction: column;align-items: center;background-color: white;padding-right: 0.2em;padding-left: 0.2em;position: relative;}#sk-container-id-1 div.sk-item {position: relative;z-index: 1;}#sk-container-id-1 div.sk-parallel {display: flex;align-items: stretch;justify-content: center;background-color: white;position: relative;}#sk-container-id-1 div.sk-item::before, #sk-container-id-1 div.sk-parallel-item::before {content: \"\";position: absolute;border-left: 1px solid gray;box-sizing: border-box;top: 0;bottom: 0;left: 50%;z-index: -1;}#sk-container-id-1 div.sk-parallel-item {display: flex;flex-direction: column;z-index: 1;position: relative;background-color: white;}#sk-container-id-1 div.sk-parallel-item:first-child::after {align-self: flex-end;width: 50%;}#sk-container-id-1 div.sk-parallel-item:last-child::after {align-self: flex-start;width: 50%;}#sk-container-id-1 div.sk-parallel-item:only-child::after {width: 0;}#sk-container-id-1 div.sk-dashed-wrapped {border: 1px dashed gray;margin: 0 0.4em 0.5em 0.4em;box-sizing: border-box;padding-bottom: 0.4em;background-color: white;}#sk-container-id-1 div.sk-label label {font-family: monospace;font-weight: bold;display: inline-block;line-height: 1.2em;}#sk-container-id-1 div.sk-label-container {text-align: center;}#sk-container-id-1 div.sk-container {/* jupyter's `normalize.less` sets `[hidden] { display: none; }` but bootstrap.min.css set `[hidden] { display: none !important; }` so we also need the `!important` here to be able to override the default hidden behavior on the sphinx rendered scikit-learn.org. See: https://github.com/scikit-learn/scikit-learn/issues/21755 */display: inline-block !important;position: relative;}#sk-container-id-1 div.sk-text-repr-fallback {display: none;}</style><div id=\"sk-container-id-1\" class=\"sk-top-container\"><div class=\"sk-text-repr-fallback\"><pre>GridSearchCV(cv=5, estimator=DecisionTreeClassifier(),\n",
       "             param_grid={&#x27;criterion&#x27;: (&#x27;gini&#x27;, &#x27;entropy&#x27;),\n",
       "                         &#x27;max_depth&#x27;: array([ 0,  1,  2,  3,  4,  5,  6,  7,  8,  9, 10, 11, 12, 13, 14, 15, 16,\n",
       "       17, 18, 19])})</pre><b>In a Jupyter environment, please rerun this cell to show the HTML representation or trust the notebook. <br />On GitHub, the HTML representation is unable to render, please try loading this page with nbviewer.org.</b></div><div class=\"sk-container\" hidden><div class=\"sk-item sk-dashed-wrapped\"><div class=\"sk-label-container\"><div class=\"sk-label sk-toggleable\"><input class=\"sk-toggleable__control sk-hidden--visually\" id=\"sk-estimator-id-1\" type=\"checkbox\" ><label for=\"sk-estimator-id-1\" class=\"sk-toggleable__label sk-toggleable__label-arrow\">GridSearchCV</label><div class=\"sk-toggleable__content\"><pre>GridSearchCV(cv=5, estimator=DecisionTreeClassifier(),\n",
       "             param_grid={&#x27;criterion&#x27;: (&#x27;gini&#x27;, &#x27;entropy&#x27;),\n",
       "                         &#x27;max_depth&#x27;: array([ 0,  1,  2,  3,  4,  5,  6,  7,  8,  9, 10, 11, 12, 13, 14, 15, 16,\n",
       "       17, 18, 19])})</pre></div></div></div><div class=\"sk-parallel\"><div class=\"sk-parallel-item\"><div class=\"sk-item\"><div class=\"sk-label-container\"><div class=\"sk-label sk-toggleable\"><input class=\"sk-toggleable__control sk-hidden--visually\" id=\"sk-estimator-id-2\" type=\"checkbox\" ><label for=\"sk-estimator-id-2\" class=\"sk-toggleable__label sk-toggleable__label-arrow\">estimator: DecisionTreeClassifier</label><div class=\"sk-toggleable__content\"><pre>DecisionTreeClassifier()</pre></div></div></div><div class=\"sk-serial\"><div class=\"sk-item\"><div class=\"sk-estimator sk-toggleable\"><input class=\"sk-toggleable__control sk-hidden--visually\" id=\"sk-estimator-id-3\" type=\"checkbox\" ><label for=\"sk-estimator-id-3\" class=\"sk-toggleable__label sk-toggleable__label-arrow\">DecisionTreeClassifier</label><div class=\"sk-toggleable__content\"><pre>DecisionTreeClassifier()</pre></div></div></div></div></div></div></div></div></div></div>"
      ],
      "text/plain": [
       "GridSearchCV(cv=5, estimator=DecisionTreeClassifier(),\n",
       "             param_grid={'criterion': ('gini', 'entropy'),\n",
       "                         'max_depth': array([ 0,  1,  2,  3,  4,  5,  6,  7,  8,  9, 10, 11, 12, 13, 14, 15, 16,\n",
       "       17, 18, 19])})"
      ]
     },
     "execution_count": 34,
     "metadata": {},
     "output_type": "execute_result"
    }
   ],
   "source": [
    "parameters = {'criterion': ('gini', 'entropy'), \n",
    "              'max_depth': np.arange(0,20),\n",
    "             }\n",
    "\n",
    "model = DecisionTreeClassifier()\n",
    "Gmodel = GridSearchCV(model, parameters, cv= 5)\n",
    "Gmodel.fit(x_train,y_train)"
   ]
  },
  {
   "cell_type": "code",
   "execution_count": 35,
   "id": "cf0d507a",
   "metadata": {
    "execution": {
     "iopub.execute_input": "2022-02-12T16:34:38.992908Z",
     "iopub.status.busy": "2022-02-12T16:34:38.992331Z",
     "iopub.status.idle": "2022-02-12T16:34:38.996541Z",
     "shell.execute_reply": "2022-02-12T16:34:38.997389Z",
     "shell.execute_reply.started": "2022-02-12T16:29:49.290027Z"
    },
    "papermill": {
     "duration": 0.05388,
     "end_time": "2022-02-12T16:34:38.997627",
     "exception": false,
     "start_time": "2022-02-12T16:34:38.943747",
     "status": "completed"
    },
    "tags": []
   },
   "outputs": [
    {
     "name": "stdout",
     "output_type": "stream",
     "text": [
      "Best Score = 0.8665111527737924\n",
      "Best params = {'criterion': 'gini', 'max_depth': 7}\n"
     ]
    }
   ],
   "source": [
    "print(\"Best Score =\",Gmodel.best_score_)\n",
    "print(\"Best params =\",Gmodel.best_params_)"
   ]
  },
  {
   "cell_type": "markdown",
   "id": "60e4c48f",
   "metadata": {
    "papermill": {
     "duration": 0.046608,
     "end_time": "2022-02-12T16:34:39.092153",
     "exception": false,
     "start_time": "2022-02-12T16:34:39.045545",
     "status": "completed"
    },
    "tags": []
   },
   "source": [
    "# **Conclusion**"
   ]
  },
  {
   "cell_type": "markdown",
   "id": "5f007b8e",
   "metadata": {
    "papermill": {
     "duration": 0.046165,
     "end_time": "2022-02-12T16:34:39.185004",
     "exception": false,
     "start_time": "2022-02-12T16:34:39.138839",
     "status": "completed"
    },
    "tags": []
   },
   "source": [
    "If there's something I'm missing or something you don't understand, please let me know. Share it with me if you have different thoughts.\n",
    "\n",
    "**I tried to explain as much as I could. If you've come this far and liked this review, don't forget to hit the arrow in the upper right corner. We hope to see you in different reviews.**"
   ]
  }
 ],
 "metadata": {
  "interpreter": {
   "hash": "ad2bdc8ecc057115af97d19610ffacc2b4e99fae6737bb82f5d7fb13d2f2c186"
  },
  "kernelspec": {
   "display_name": "Python 3.9.7 ('base')",
   "language": "python",
   "name": "python3"
  },
  "language_info": {
   "codemirror_mode": {
    "name": "ipython",
    "version": 3
   },
   "file_extension": ".py",
   "mimetype": "text/x-python",
   "name": "python",
   "nbconvert_exporter": "python",
   "pygments_lexer": "ipython3",
   "version": "3.9.7"
  },
  "papermill": {
   "default_parameters": {},
   "duration": 281.003947,
   "end_time": "2022-02-12T16:34:40.041587",
   "environment_variables": {},
   "exception": null,
   "input_path": "__notebook__.ipynb",
   "output_path": "__notebook__.ipynb",
   "parameters": {},
   "start_time": "2022-02-12T16:29:59.037640",
   "version": "2.3.3"
  }
 },
 "nbformat": 4,
 "nbformat_minor": 5
}
